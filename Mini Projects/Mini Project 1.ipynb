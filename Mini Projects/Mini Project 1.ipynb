{
 "cells": [
  {
   "cell_type": "code",
   "execution_count": 1,
   "id": "69323a1f-f8f6-454f-a249-f67b07ae8cac",
   "metadata": {},
   "outputs": [],
   "source": [
    "import numpy as np\n",
    "import matplotlib.pyplot as plt"
   ]
  },
  {
   "cell_type": "markdown",
   "id": "0164b28c-11d4-48ca-83a3-a830b67cf3e0",
   "metadata": {},
   "source": [
    "# Restaurant 2024 Sales (Month + Categories)"
   ]
  },
  {
   "cell_type": "markdown",
   "id": "4c1e765a-06b0-4123-aebd-60247884716d",
   "metadata": {},
   "source": [
    "<ul>\n",
    "    <li>\n",
    "        Categories:\n",
    "        <ol>\n",
    "            <li>Burgers</li>\n",
    "            <li>Pizzas</li>\n",
    "            <li>Drinks</li>\n",
    "            <li>Desserts</li>\n",
    "            <li>Salads</li>\n",
    "        </ol>\n",
    "    </li>\n",
    "</ul>"
   ]
  },
  {
   "cell_type": "code",
   "execution_count": 2,
   "id": "193142c4-f576-4fb7-8991-293ca39393a2",
   "metadata": {},
   "outputs": [],
   "source": [
    "kababjees_sales_analysis = np.array([[1, 15326, 17427, 9938, 26390, 15733],\n",
    " [2, 23289, 27846, 27807, 12135, 27145],\n",
    " [3, 21667, 18174, 12797, 8648, 19246],\n",
    " [4, 26066, 28812, 10858, 15274, 21279],\n",
    " [5, 9018, 16912, 15988, 18456, 22744],\n",
    " [6, 15563, 24473, 23141, 21487, 9582],\n",
    " [7, 10101, 17217, 28369, 25636, 20233],\n",
    " [8, 18216, 17813, 9832, 28137, 14538],\n",
    " [9, 24845, 25586, 25135, 12754, 26219],\n",
    " [10, 21183, 29441, 12429, 8347, 18956],\n",
    " [11, 25193, 19471, 32409, 9357, 16046],\n",
    " [12, 21003, 13570, 10425, 8140, 58986]])"
   ]
  },
  {
   "cell_type": "code",
   "execution_count": 6,
   "id": "6d5e96eb-58dc-4fce-b42f-f247cd7cc31f",
   "metadata": {},
   "outputs": [
    {
     "name": "stdout",
     "output_type": "stream",
     "text": [
      "Shape of this dataset: (12, 6)\n",
      "Dimensions of this dataset: 2\n"
     ]
    }
   ],
   "source": [
    "print(f\"Shape of this dataset: {kababjees_sales_analysis.shape}\")\n",
    "print(f\"Dimensions of this dataset: {kababjees_sales_analysis.ndim}\")"
   ]
  },
  {
   "cell_type": "code",
   "execution_count": 7,
   "id": "bd0c2b9c-05d9-4894-83cc-e4baa7084452",
   "metadata": {},
   "outputs": [
    {
     "name": "stdout",
     "output_type": "stream",
     "text": [
      "[[    1 15326 17427  9938 26390 15733]\n",
      " [    2 23289 27846 27807 12135 27145]\n",
      " [    3 21667 18174 12797  8648 19246]\n",
      " [    4 26066 28812 10858 15274 21279]\n",
      " [    5  9018 16912 15988 18456 22744]]\n"
     ]
    }
   ],
   "source": [
    "# Sample data for 1st 4 months\n",
    "print(kababjees_sales_analysis[0:5])"
   ]
  },
  {
   "cell_type": "code",
   "execution_count": 11,
   "id": "3056ab23-0fcd-4096-bdad-4d98e36755dc",
   "metadata": {},
   "outputs": [
    {
     "name": "stdout",
     "output_type": "stream",
     "text": [
      "[[15326 17427  9938 26390]\n",
      " [23289 27846 27807 12135]\n",
      " [21667 18174 12797  8648]\n",
      " [26066 28812 10858 15274]\n",
      " [ 9018 16912 15988 18456]]\n"
     ]
    }
   ],
   "source": [
    "# Sample data for 1st 4 months except month's column\n",
    "print(kababjees_sales_analysis[:5 , 1:5])"
   ]
  },
  {
   "cell_type": "markdown",
   "id": "7b72bb20-7fa9-494a-a90e-3747d7a1b298",
   "metadata": {},
   "source": [
    "## Revenue Insights"
   ]
  },
  {
   "cell_type": "code",
   "execution_count": 15,
   "id": "9251808c-dc62-406d-afc5-0a285f6de17d",
   "metadata": {},
   "outputs": [
    {
     "name": "stdout",
     "output_type": "stream",
     "text": [
      "[ 84814 118222  80532 102289  83118  94246 101556  88536 114539  90356\n",
      " 102476 112124]\n"
     ]
    }
   ],
   "source": [
    "# 1. Total Monthly revenue\n",
    "monthly_sales = kababjees_sales_analysis[: , 1:]\n",
    "monthly_revenue = monthly_sales.sum(axis=1)\n",
    "print(monthly_revenue)\n",
    "# Average monthly revenue"
   ]
  },
  {
   "cell_type": "code",
   "execution_count": 16,
   "id": "0ce6c092-4dce-406d-9a26-cfbbfd2b4211",
   "metadata": {},
   "outputs": [
    {
     "name": "stdout",
     "output_type": "stream",
     "text": [
      "Month 2 Growth Rate(%): 39.39%\n",
      "Month 3 Growth Rate(%): -31.88%\n",
      "Month 4 Growth Rate(%): 27.02%\n",
      "Month 5 Growth Rate(%): -18.74%\n",
      "Month 6 Growth Rate(%): 13.39%\n",
      "Month 7 Growth Rate(%): 7.76%\n",
      "Month 8 Growth Rate(%): -12.82%\n",
      "Month 9 Growth Rate(%): 29.37%\n",
      "Month 10 Growth Rate(%): -21.11%\n",
      "Month 11 Growth Rate(%): 13.41%\n",
      "Month 12 Growth Rate(%): 9.41%\n"
     ]
    }
   ],
   "source": [
    "# 2. Revenue growth rate (%)\n",
    "monthly_growth_rate = (monthly_revenue[1:] - monthly_revenue[:-1])/monthly_revenue[:-1]*100\n",
    "for i, rate in enumerate(monthly_growth_rate, start=2):\n",
    "    print(f\"Month {i} Growth Rate(%): {rate:.2f}%\")"
   ]
  },
  {
   "cell_type": "code",
   "execution_count": null,
   "id": "66760f90-786a-43c3-b83c-108d63491fb1",
   "metadata": {},
   "outputs": [],
   "source": [
    "# 3. Cumulative revenue"
   ]
  }
 ],
 "metadata": {
  "kernelspec": {
   "display_name": "Python [conda env:base] *",
   "language": "python",
   "name": "conda-base-py"
  },
  "language_info": {
   "codemirror_mode": {
    "name": "ipython",
    "version": 3
   },
   "file_extension": ".py",
   "mimetype": "text/x-python",
   "name": "python",
   "nbconvert_exporter": "python",
   "pygments_lexer": "ipython3",
   "version": "3.13.5"
  }
 },
 "nbformat": 4,
 "nbformat_minor": 5
}
