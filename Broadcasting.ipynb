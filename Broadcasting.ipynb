{
 "cells": [
  {
   "cell_type": "markdown",
   "id": "e00c3fb7-5d5c-4e9f-b46d-3a186819d113",
   "metadata": {},
   "source": [
    "# Broadcasting"
   ]
  },
  {
   "cell_type": "markdown",
   "id": "cc5367d1-8f6b-47ea-815c-adcb881714c1",
   "metadata": {},
   "source": [
    "<p>Broadcasting in NumPy is a mechanism that allows arithmetic operations to be performed on arrays of different shapes. It provides a way to vectorize array operations without needing to explicitly reshape or copy data, leading to more efficient and concise code.</p>"
   ]
  },
  {
   "cell_type": "code",
   "execution_count": 1,
   "id": "6df89c21-1458-4b51-9ea6-b9f36f312cf6",
   "metadata": {},
   "outputs": [],
   "source": [
    "import numpy as np"
   ]
  },
  {
   "cell_type": "code",
   "execution_count": 2,
   "id": "40780f52-7cec-4a2e-9daf-96e6fb8d6dfc",
   "metadata": {},
   "outputs": [
    {
     "name": "stdout",
     "output_type": "stream",
     "text": [
      "[[0 1 2 3]\n",
      " [4 5 6 7]]\n",
      "\n",
      "[[ 8  9 10 11]\n",
      " [12 13 14 15]]\n"
     ]
    }
   ],
   "source": [
    "array_1 = np.arange(8).reshape(2, 4)\n",
    "array_2 = np.arange(8, 16).reshape(2, 4)\n",
    "print(f\"{array_1}\\n\\n{array_2}\")"
   ]
  },
  {
   "cell_type": "code",
   "execution_count": 3,
   "id": "f624e664-3ad2-4094-9f69-f1ec806b462e",
   "metadata": {},
   "outputs": [
    {
     "data": {
      "text/plain": [
       "array([[ 8, 10, 12, 14],\n",
       "       [16, 18, 20, 22]])"
      ]
     },
     "execution_count": 3,
     "metadata": {},
     "output_type": "execute_result"
    }
   ],
   "source": [
    "array_1 + array_2"
   ]
  },
  {
   "cell_type": "markdown",
   "id": "9b503b92-ea4c-4a5d-b1d1-dcf5b814878b",
   "metadata": {},
   "source": [
    "### Example of broadcasting"
   ]
  },
  {
   "cell_type": "code",
   "execution_count": 4,
   "id": "934772bd-9207-4675-9250-62c43cda0069",
   "metadata": {},
   "outputs": [
    {
     "name": "stdout",
     "output_type": "stream",
     "text": [
      "[[0 1 2]\n",
      " [3 4 5]\n",
      " [6 7 8]]\n",
      "\n",
      "[[0 1 2]]\n"
     ]
    }
   ],
   "source": [
    "array_3 = np.arange(9).reshape(3, 3)\n",
    "array_4 = np.arange(3).reshape(1, 3)\n",
    "print(f\"{array_3}\\n\\n{array_4}\")"
   ]
  },
  {
   "cell_type": "code",
   "execution_count": 5,
   "id": "d78cd500-ca7f-4aa1-b0ba-2efe9d6441d9",
   "metadata": {},
   "outputs": [
    {
     "name": "stdout",
     "output_type": "stream",
     "text": [
      "[[ 0  2  4]\n",
      " [ 3  5  7]\n",
      " [ 6  8 10]]\n"
     ]
    }
   ],
   "source": [
    "print(array_3 + array_4)"
   ]
  },
  {
   "cell_type": "markdown",
   "id": "6eb411f6-e456-4132-98d8-5b16610bc455",
   "metadata": {},
   "source": [
    "### How Broadcasting Works:"
   ]
  },
  {
   "cell_type": "markdown",
   "id": "a21b1997-8de4-451a-b177-3aa21a309e47",
   "metadata": {},
   "source": [
    "<p>When performing an operation between two arrays with different shapes, NumPy attempts to \"broadcast\" the smaller array across the larger one to make their shapes compatible. This involves implicitly expanding the dimensions of the smaller array to match the larger one, without actually creating copies of the data in memory.</p>"
   ]
  },
  {
   "cell_type": "markdown",
   "id": "131bd349-19fc-422b-82a9-5b1f37ebe583",
   "metadata": {},
   "source": [
    "![broadcasting](broadcasting.png)"
   ]
  },
  {
   "cell_type": "markdown",
   "id": "cac5eae0-21d6-4679-8dfe-ac2fec5f7929",
   "metadata": {},
   "source": [
    "### Rules for Broadcasting"
   ]
  },
  {
   "cell_type": "code",
   "execution_count": 7,
   "id": "8ff5c41c-bc54-416f-b964-0c18f4747535",
   "metadata": {},
   "outputs": [
    {
     "name": "stdout",
     "output_type": "stream",
     "text": [
      "[[ 8 10 12 14]\n",
      " [16 18 20 22]]\n"
     ]
    }
   ],
   "source": [
    "# if x=m and y=n, operation will take place\n",
    "array_1 = np.arange(8).reshape(2, 4)\n",
    "array_2 = np.arange(8, 16).reshape(2, 4)\n",
    "print(array_1 + array_2)"
   ]
  },
  {
   "cell_type": "code",
   "execution_count": 8,
   "id": "7be63a59-2218-4c0b-bac8-758a2487bc0d",
   "metadata": {},
   "outputs": [
    {
     "name": "stdout",
     "output_type": "stream",
     "text": [
      "[[ 0  2  4]\n",
      " [ 3  5  7]\n",
      " [ 6  8 10]]\n"
     ]
    }
   ],
   "source": [
    "# if x=1 and y=n then also operation will take place(same dimension)\n",
    "array_3 = np.arange(9).reshape(3, 3)\n",
    "array_4 = np.arange(3).reshape(1, 3)\n",
    "print(array_3 + array_4)"
   ]
  },
  {
   "cell_type": "code",
   "execution_count": 11,
   "id": "0b92fcfb-dbbc-42e6-a6f8-5d706d8a7225",
   "metadata": {},
   "outputs": [
    {
     "name": "stdout",
     "output_type": "stream",
     "text": [
      "[[ 0  2  4  6]\n",
      " [ 4  6  8 10]\n",
      " [ 8 10 12 14]]\n"
     ]
    }
   ],
   "source": [
    "# if y=1 and x=m then also operation will take place, even if they are not of the same dimension\n",
    "\n",
    "array_5 = np.arange(4).reshape(1, 4)\n",
    "array_6 = np.arange(12).reshape(3, 4)\n",
    "print(array_5 + array_6)"
   ]
  },
  {
   "cell_type": "code",
   "execution_count": 13,
   "id": "ae57d9fd-fa80-4a78-9331-b37ca56f23b1",
   "metadata": {},
   "outputs": [
    {
     "ename": "ValueError",
     "evalue": "operands could not be broadcast together with shapes (1,3) (4,4) ",
     "output_type": "error",
     "traceback": [
      "\u001b[1;31m---------------------------------------------------------------------------\u001b[0m",
      "\u001b[1;31mValueError\u001b[0m                                Traceback (most recent call last)",
      "Cell \u001b[1;32mIn[13], line 3\u001b[0m\n\u001b[0;32m      1\u001b[0m array_7 \u001b[38;5;241m=\u001b[39m np\u001b[38;5;241m.\u001b[39marange(\u001b[38;5;241m3\u001b[39m)\u001b[38;5;241m.\u001b[39mreshape(\u001b[38;5;241m1\u001b[39m, \u001b[38;5;241m3\u001b[39m)\n\u001b[0;32m      2\u001b[0m array_8 \u001b[38;5;241m=\u001b[39m np\u001b[38;5;241m.\u001b[39marange(\u001b[38;5;241m16\u001b[39m)\u001b[38;5;241m.\u001b[39mreshape(\u001b[38;5;241m4\u001b[39m, \u001b[38;5;241m4\u001b[39m)\n\u001b[1;32m----> 3\u001b[0m \u001b[38;5;28mprint\u001b[39m(array_7 \u001b[38;5;241m+\u001b[39m array_8)\n",
      "\u001b[1;31mValueError\u001b[0m: operands could not be broadcast together with shapes (1,3) (4,4) "
     ]
    }
   ],
   "source": [
    "# broadcasting will not take place\n",
    "\n",
    "array_7 = np.arange(3).reshape(1, 3)\n",
    "array_8 = np.arange(16).reshape(4, 4)\n",
    "print(array_7 + array_8)"
   ]
  },
  {
   "cell_type": "code",
   "execution_count": 14,
   "id": "54e20f5f-7c9f-4b58-a14e-5fd97681248d",
   "metadata": {},
   "outputs": [
    {
     "name": "stdout",
     "output_type": "stream",
     "text": [
      "[[0 1 2]\n",
      " [1 2 3]\n",
      " [2 3 4]]\n"
     ]
    }
   ],
   "source": [
    "# if x=1 and n=1 then y==m, operation to take place\n",
    "\n",
    "array_9 = np.arange(3).reshape(1, 3)\n",
    "array_10 = np.arange(3).reshape(3, 1)\n",
    "print(array_9 + array_10)"
   ]
  },
  {
   "cell_type": "code",
   "execution_count": 15,
   "id": "2d87c60e-dad3-4e35-be5c-41975bd995fb",
   "metadata": {},
   "outputs": [
    {
     "name": "stdout",
     "output_type": "stream",
     "text": [
      "[[ 0  1  2  3  4]\n",
      " [ 5  6  7  8  9]\n",
      " [10 11 12 13 14]\n",
      " [15 16 17 18 19]]\n"
     ]
    }
   ],
   "source": [
    "# if x=1 and y=1, then the operation will take place no matter what\n",
    "\n",
    "array_11 = np.arange(1).reshape(1, 1)\n",
    "array_12 = np.arange(20).reshape(4, 5)\n",
    "print(array_11 + array_12)"
   ]
  },
  {
   "cell_type": "code",
   "execution_count": 16,
   "id": "a49d5b63-26be-4479-a4c9-d73f7358c832",
   "metadata": {},
   "outputs": [
    {
     "name": "stdout",
     "output_type": "stream",
     "text": [
      "[[ 0  2  4  6]\n",
      " [ 4  6  8 10]\n",
      " [ 8 10 12 14]\n",
      " [12 14 16 18]\n",
      " [16 18 20 22]]\n"
     ]
    }
   ],
   "source": [
    "# if they are of different dimensions\n",
    "\n",
    "array_13 = np.arange(4)\n",
    "array_14 = np.arange(20).reshape(5, 4)\n",
    "print(array_13 + array_14)"
   ]
  }
 ],
 "metadata": {
  "kernelspec": {
   "display_name": "Python [conda env:base] *",
   "language": "python",
   "name": "conda-base-py"
  },
  "language_info": {
   "codemirror_mode": {
    "name": "ipython",
    "version": 3
   },
   "file_extension": ".py",
   "mimetype": "text/x-python",
   "name": "python",
   "nbconvert_exporter": "python",
   "pygments_lexer": "ipython3",
   "version": "3.13.5"
  }
 },
 "nbformat": 4,
 "nbformat_minor": 5
}
