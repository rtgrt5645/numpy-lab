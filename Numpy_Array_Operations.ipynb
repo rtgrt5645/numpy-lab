{
 "cells": [
  {
   "cell_type": "markdown",
   "id": "5a91a2dd-975a-40e0-a5ad-f91588e57adf",
   "metadata": {},
   "source": [
    "# NumPy Array Operations"
   ]
  },
  {
   "cell_type": "code",
   "execution_count": 1,
   "id": "51a74c40-5719-469b-9b7f-fe092a63e917",
   "metadata": {},
   "outputs": [],
   "source": [
    "import numpy as np"
   ]
  },
  {
   "cell_type": "markdown",
   "id": "566964ec-2b70-44e6-990c-66234535e9a9",
   "metadata": {},
   "source": [
    "#### Basic Operations"
   ]
  },
  {
   "cell_type": "code",
   "execution_count": 2,
   "id": "f8d3abb5-a9f5-48ec-9ce0-e18acd0ff566",
   "metadata": {},
   "outputs": [
    {
     "name": "stdout",
     "output_type": "stream",
     "text": [
      "Addition: [ 7  9 11 13 15]\n",
      "Addition: [ 6  7  8  9 10]\n",
      "Subtraction: [-5 -5 -5 -5 -5]\n",
      "Subtraction: [4 5 6 7 8]\n",
      "/vector Multiplication: [ 6 14 24 36 50]\n",
      "Scalar multiplication of an array: [ 2  4  6  8 10]\n"
     ]
    }
   ],
   "source": [
    "array_1 = np.array([1, 2, 3, 4, 5])\n",
    "array_2 = np.array([6, 7, 8, 9, 10])\n",
    "\n",
    "print(f\"Addition: {array_1 + array_2}\")\n",
    "print(f\"Addition: {array_1 + 5}\")\n",
    "print(f\"Subtraction: {array_1 - array_2}\")\n",
    "print(f\"Subtraction: {array_2 - 2}\")\n",
    "print(f\"/vector Multiplication: {array_1 * array_2}\")\n",
    "print(f\"Scalar multiplication of an array: {array_1*2}\")"
   ]
  },
  {
   "cell_type": "markdown",
   "id": "87034164-d830-48e4-a9c6-8606c65c4cde",
   "metadata": {},
   "source": [
    "#### Comparision Operators"
   ]
  },
  {
   "cell_type": "code",
   "execution_count": 3,
   "id": "d58d4d16-7207-4b35-90ab-fb21fe4151e0",
   "metadata": {},
   "outputs": [
    {
     "name": "stdout",
     "output_type": "stream",
     "text": [
      "Array 1: [1 2 3 4 5] \n",
      "Array 2: [ 6  7  8  9 10]\n",
      "[False False False False False]\n",
      "[ True  True  True  True  True]\n",
      "[False False False False False]\n",
      "[ True  True  True  True  True]\n",
      "[False False False False False]\n",
      "[ True  True  True  True  True]\n",
      "[False False False  True  True]\n"
     ]
    }
   ],
   "source": [
    "print(f\"Array 1: {array_1} \\nArray 2: {array_2}\")\n",
    "\n",
    "print(array_1 > array_2)\n",
    "print(array_1 < array_2)\n",
    "print(array_1 >= array_2)\n",
    "print(array_1 <= array_2)\n",
    "print(array_1 == array_2)\n",
    "print(array_1 != array_2)\n",
    "print(array_1 > 3)"
   ]
  },
  {
   "cell_type": "markdown",
   "id": "9630a6ee-00e8-4024-97c7-5f958a67f030",
   "metadata": {},
   "source": [
    "#### Dot Product"
   ]
  },
  {
   "cell_type": "code",
   "execution_count": 4,
   "id": "6b4a5380-516f-45dc-9ee9-302c3b967b44",
   "metadata": {},
   "outputs": [
    {
     "name": "stdout",
     "output_type": "stream",
     "text": [
      "Array 3 is:\n",
      " [[ 0  1  2  3]\n",
      " [ 4  5  6  7]\n",
      " [ 8  9 10 11]] \n",
      "\n",
      "Array 4 is:\n",
      " [[ 1  2  3]\n",
      " [ 4  5  6]\n",
      " [ 7  8  9]\n",
      " [10 11 12]]\n",
      "\n",
      "Dot product of array 3 and array4 is:\n",
      " [[ 48  54  60]\n",
      " [136 158 180]\n",
      " [224 262 300]]\n"
     ]
    }
   ],
   "source": [
    "array_3 = np.arange(12).reshape(3, 4)\n",
    "array_4 = np.arange(1, 13).reshape(4, 3)\n",
    "print(f\"Array 3 is:\\n {array_3} \\n\\nArray 4 is:\\n {array_4}\")\n",
    "print(f\"\\nDot product of array 3 and array4 is:\\n {array_3.dot(array_4)}\")"
   ]
  },
  {
   "cell_type": "code",
   "execution_count": 5,
   "id": "b1379951-7b48-4860-9ce8-d688f038ef64",
   "metadata": {},
   "outputs": [
    {
     "name": "stdout",
     "output_type": "stream",
     "text": [
      "Dot product of array 1 and array 2 is: 130\n"
     ]
    }
   ],
   "source": [
    "print(f\"Dot product of array 1 and array 2 is: {array_1.dot(array_2)}\")"
   ]
  },
  {
   "cell_type": "markdown",
   "id": "b665c179-dcbd-483c-9f98-6b2d24da212e",
   "metadata": {},
   "source": [
    "#### Unary Operation"
   ]
  },
  {
   "cell_type": "code",
   "execution_count": 6,
   "id": "5746103b-3088-45e9-9bb7-b113f5845f6b",
   "metadata": {},
   "outputs": [
    {
     "name": "stdout",
     "output_type": "stream",
     "text": [
      "Maximum element of this array is: 11\n",
      "Minimum element of this array is: 1\n"
     ]
    }
   ],
   "source": [
    "print(f\"Maximum element of this array is: {array_3.max()}\")\n",
    "print(f\"Minimum element of this array is: {array_4.min()}\")"
   ]
  },
  {
   "cell_type": "code",
   "execution_count": 7,
   "id": "d9eb583c-41cc-429d-8bd2-c9c2cd3e3ef5",
   "metadata": {},
   "outputs": [
    {
     "name": "stdout",
     "output_type": "stream",
     "text": [
      "Maximum elements of every columns are: [ 8  9 10 11]\n",
      "Minimum elements of every rows are: [0 4 8]\n"
     ]
    }
   ],
   "source": [
    "print(f\"Maximum elements of every columns are: {array_3.max(axis=0)}\")\n",
    "print(f\"Minimum elements of every rows are: {array_3.min(axis=1)}\")"
   ]
  },
  {
   "cell_type": "code",
   "execution_count": 8,
   "id": "83364c27-0aa5-49c7-8f56-5bfa35f0c311",
   "metadata": {},
   "outputs": [
    {
     "name": "stdout",
     "output_type": "stream",
     "text": [
      "Sum of array 4 is: 78\n",
      "Sum of every column of array 4 is: [22 26 30]\n",
      "Sum of every row of array 4 is: [ 6 15 24 33]\n"
     ]
    }
   ],
   "source": [
    "print(f\"Sum of array 4 is: {array_4.sum()}\")\n",
    "print(f\"Sum of every column of array 4 is: {array_4.sum(axis=0)}\")\n",
    "print(f\"Sum of every row of array 4 is: {array_4.sum(axis=1)}\")"
   ]
  },
  {
   "cell_type": "code",
   "execution_count": 9,
   "id": "1cb393cc-161b-47e3-94e1-ff1aefcb12a4",
   "metadata": {},
   "outputs": [
    {
     "name": "stdout",
     "output_type": "stream",
     "text": [
      "Mean of array 1 is: 3.0\n",
      "Mean of array 2 is: 8.0\n",
      "Mean of every column of array 3 is: [4. 5. 6. 7.]\n",
      "Mean of every row of array 4 is: [ 2.  5.  8. 11.]\n"
     ]
    }
   ],
   "source": [
    "print(f\"Mean of array 1 is: {array_1.mean()}\")\n",
    "print(f\"Mean of array 2 is: {array_2.mean()}\")\n",
    "print(f\"Mean of every column of array 3 is: {array_3.mean(axis=0)}\")\n",
    "print(f\"Mean of every row of array 4 is: {array_4.mean(axis=1)}\")"
   ]
  },
  {
   "cell_type": "code",
   "execution_count": 10,
   "id": "04497383-8250-491a-bb68-a9871096596c",
   "metadata": {},
   "outputs": [
    {
     "name": "stdout",
     "output_type": "stream",
     "text": [
      "Standard Daviation of array 1 is: 1.4142135623730951\n",
      "Standard Daviation of array 1 is: 1.4142135623730951\n",
      "Standard Daviation of every column of array 3 is: [3.26598632 3.26598632 3.26598632 3.26598632]\n",
      "Standard Daviation of every row of array 4 is: [0.81649658 0.81649658 0.81649658 0.81649658]\n"
     ]
    }
   ],
   "source": [
    "print(f\"Standard Daviation of array 1 is: {array_1.std()}\")\n",
    "print(f\"Standard Daviation of array 1 is: {array_2.std()}\")\n",
    "print(f\"Standard Daviation of every column of array 3 is: {array_3.std(axis=0)}\")\n",
    "print(f\"Standard Daviation of every row of array 4 is: {array_4.std(axis=1)}\")"
   ]
  },
  {
   "cell_type": "markdown",
   "id": "e9bf345d-614d-4065-91f6-99c4c06ab10c",
   "metadata": {},
   "source": [
    "#### Universal Functions"
   ]
  },
  {
   "cell_type": "code",
   "execution_count": 11,
   "id": "76bdcc79-8e86-47db-bec5-927618715816",
   "metadata": {},
   "outputs": [
    {
     "name": "stdout",
     "output_type": "stream",
     "text": [
      "Median of array 1 is: 3.0\n",
      "Median of array 2 is: 8.0\n",
      "Median of every column of array 3 is: [4. 5. 6. 7.]\n",
      "Median of every row of array 4 is: [ 2.  5.  8. 11.]\n"
     ]
    }
   ],
   "source": [
    "print(f\"Median of array 1 is: {np.median(array_1)}\")\n",
    "print(f\"Median of array 2 is: {np.median(array_2)}\")\n",
    "print(f\"Median of every column of array 3 is: {np.median(array_3, axis=0)}\")\n",
    "print(f\"Median of every row of array 4 is: {np.median(array_4, axis=1)}\")"
   ]
  },
  {
   "cell_type": "code",
   "execution_count": 12,
   "id": "3ccfd4b3-cf8e-4ded-a2b1-b37f6c8831fe",
   "metadata": {},
   "outputs": [
    {
     "name": "stdout",
     "output_type": "stream",
     "text": [
      "Sin of array 1: [ 0.84147098  0.90929743  0.14112001 -0.7568025  -0.95892427]\n",
      "Sin of array 3: [[ 0.          0.84147098  0.90929743  0.14112001]\n",
      " [-0.7568025  -0.95892427 -0.2794155   0.6569866 ]\n",
      " [ 0.98935825  0.41211849 -0.54402111 -0.99999021]]\n"
     ]
    }
   ],
   "source": [
    "print(f\"Sin of array 1: {np.sin(array_1)}\")\n",
    "print(f\"Sin of array 3: {np.sin(array_3)}\")"
   ]
  },
  {
   "cell_type": "code",
   "execution_count": 13,
   "id": "368c7add-95a1-4652-8819-fe98d2d04d34",
   "metadata": {},
   "outputs": [
    {
     "name": "stdout",
     "output_type": "stream",
     "text": [
      "Exponential of array 2: [  403.42879349  1096.63315843  2980.95798704  8103.08392758\n",
      " 22026.46579481]\n",
      "Exponential of array 4: [[2.71828183e+00 7.38905610e+00 2.00855369e+01]\n",
      " [5.45981500e+01 1.48413159e+02 4.03428793e+02]\n",
      " [1.09663316e+03 2.98095799e+03 8.10308393e+03]\n",
      " [2.20264658e+04 5.98741417e+04 1.62754791e+05]]\n"
     ]
    }
   ],
   "source": [
    "print(f\"Exponential of array 2: {np.exp(array_2)}\")\n",
    "print(f\"Exponential of array 4: {np.exp(array_4)}\")"
   ]
  },
  {
   "cell_type": "code",
   "execution_count": 14,
   "id": "4cda3084-a129-4826-82a3-2a28e9a3bd9e",
   "metadata": {},
   "outputs": [
    {
     "name": "stdout",
     "output_type": "stream",
     "text": [
      "Square root of array 1 is: [1.         1.41421356 1.73205081 2.         2.23606798]\n",
      "Square root of array 3 is: [[0.         1.         1.41421356 1.73205081]\n",
      " [2.         2.23606798 2.44948974 2.64575131]\n",
      " [2.82842712 3.         3.16227766 3.31662479]]\n"
     ]
    }
   ],
   "source": [
    "print(f\"Square root of array 1 is: {np.sqrt(array_1)}\")\n",
    "print(f\"Square root of array 3 is: {np.sqrt(array_3)}\")"
   ]
  }
 ],
 "metadata": {
  "kernelspec": {
   "display_name": "Python [conda env:base] *",
   "language": "python",
   "name": "conda-base-py"
  },
  "language_info": {
   "codemirror_mode": {
    "name": "ipython",
    "version": 3
   },
   "file_extension": ".py",
   "mimetype": "text/x-python",
   "name": "python",
   "nbconvert_exporter": "python",
   "pygments_lexer": "ipython3",
   "version": "3.13.5"
  }
 },
 "nbformat": 4,
 "nbformat_minor": 5
}
