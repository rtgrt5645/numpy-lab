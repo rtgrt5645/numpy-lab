{
 "cells": [
  {
   "cell_type": "markdown",
   "id": "938fe706-4aae-4bdc-b75c-25bc393c68e6",
   "metadata": {},
   "source": [
    "# Python List Vs Numpy Array"
   ]
  },
  {
   "cell_type": "markdown",
   "id": "abcdfaf2-27b0-48ee-87f2-7a641039aae8",
   "metadata": {},
   "source": [
    "<ol>\n",
    "    <li>Array is faster</li>\n",
    "    <li>Convenient</li>\n",
    "    <li>Uses less memory as compared to python list</li>\n",
    "</ol>"
   ]
  },
  {
   "cell_type": "code",
   "execution_count": 1,
   "id": "07242768-f944-45b6-89a8-93e19fa4dc4a",
   "metadata": {},
   "outputs": [],
   "source": [
    "import numpy as np"
   ]
  },
  {
   "cell_type": "code",
   "execution_count": 2,
   "id": "61aa3d25-ed7c-4ad4-be48-715c887859ae",
   "metadata": {},
   "outputs": [
    {
     "name": "stdout",
     "output_type": "stream",
     "text": [
      "range(0, 55) \n",
      "[ 0  1  2  3  4  5  6  7  8  9 10 11 12 13 14 15 16 17 18 19 20 21 22 23\n",
      " 24 25 26 27 28 29 30 31 32 33 34 35 36 37 38 39 40 41 42 43 44 45 46 47\n",
      " 48 49 50 51 52 53 54]\n"
     ]
    }
   ],
   "source": [
    "py_list = range(55)\n",
    "np_array = np.arange(55)\n",
    "print(f\"{py_list} \\n{np_array}\")"
   ]
  },
  {
   "cell_type": "code",
   "execution_count": 3,
   "id": "ddd9f5e7-93ef-422c-b1e7-34b26b251cc0",
   "metadata": {},
   "outputs": [],
   "source": [
    "import sys"
   ]
  },
  {
   "cell_type": "markdown",
   "id": "92502fc1-4a99-4497-bb26-de1da27d8cff",
   "metadata": {},
   "source": [
    "<p> To prove the statement of less memory usage. </p>"
   ]
  },
  {
   "cell_type": "code",
   "execution_count": 4,
   "id": "1c8f9c69-fe19-4a8d-bb93-cfb3f9a3a70e",
   "metadata": {},
   "outputs": [
    {
     "name": "stdout",
     "output_type": "stream",
     "text": [
      "Size of Python List is: 1540\n"
     ]
    }
   ],
   "source": [
    "print(f\"Size of Python List is: {sys.getsizeof(12)*len(py_list)}\")"
   ]
  },
  {
   "cell_type": "code",
   "execution_count": 5,
   "id": "cc9e71d1-9e70-4051-8808-dcbfdfe696f1",
   "metadata": {},
   "outputs": [
    {
     "name": "stdout",
     "output_type": "stream",
     "text": [
      "Size of Numpy Array is: 440\n"
     ]
    }
   ],
   "source": [
    "print(f\"Size of Numpy Array is: {np_array.itemsize*np_array.size}\")"
   ]
  },
  {
   "cell_type": "code",
   "execution_count": 6,
   "id": "3ae3b340-71db-47f9-a3c6-400a90441ab8",
   "metadata": {},
   "outputs": [],
   "source": [
    "import time"
   ]
  },
  {
   "cell_type": "markdown",
   "id": "41a85e62-0c3d-48ff-b6fb-8cd87faf1204",
   "metadata": {},
   "source": [
    "<p>To prove the statement that numpy array is faster and convenient</p>"
   ]
  },
  {
   "cell_type": "markdown",
   "id": "fa5f85b9-119a-4abb-b530-599281ff0278",
   "metadata": {},
   "source": [
    "#### Python List"
   ]
  },
  {
   "cell_type": "code",
   "execution_count": 7,
   "id": "ccf458c5-e3e1-40e0-a38b-36be4aed0e42",
   "metadata": {},
   "outputs": [
    {
     "name": "stdout",
     "output_type": "stream",
     "text": [
      "2.687223196029663\n"
     ]
    }
   ],
   "source": [
    "py_x = range(10000000)\n",
    "py_y = range(10000000, 20000000)\n",
    "\n",
    "start_time = time.time()\n",
    "c = [(x, y) for x, y in zip(py_x, py_y)]\n",
    "print(time.time() - start_time)"
   ]
  },
  {
   "cell_type": "markdown",
   "id": "a532a65a-c35a-452d-b162-86622b7229cf",
   "metadata": {},
   "source": [
    "#### Numpy Array"
   ]
  },
  {
   "cell_type": "code",
   "execution_count": 8,
   "id": "ba840e46-ea41-435b-9ee3-516bf58cc4a8",
   "metadata": {},
   "outputs": [
    {
     "name": "stdout",
     "output_type": "stream",
     "text": [
      "0.6916203498840332\n"
     ]
    }
   ],
   "source": [
    "np_x = np.arange(10000000)\n",
    "np_y = np.arange(10000000, 20000000)\n",
    "\n",
    "start_time = time.time()\n",
    "c = np_x + np_y\n",
    "print(time.time() - start_time)"
   ]
  },
  {
   "cell_type": "code",
   "execution_count": null,
   "id": "4f6c7848-b0ec-407c-9722-24975fca4646",
   "metadata": {},
   "outputs": [],
   "source": []
  }
 ],
 "metadata": {
  "kernelspec": {
   "display_name": "Python [conda env:base] *",
   "language": "python",
   "name": "conda-base-py"
  },
  "language_info": {
   "codemirror_mode": {
    "name": "ipython",
    "version": 3
   },
   "file_extension": ".py",
   "mimetype": "text/x-python",
   "name": "python",
   "nbconvert_exporter": "python",
   "pygments_lexer": "ipython3",
   "version": "3.13.5"
  }
 },
 "nbformat": 4,
 "nbformat_minor": 5
}
