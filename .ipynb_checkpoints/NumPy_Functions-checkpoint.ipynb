{
 "cells": [
  {
   "cell_type": "markdown",
   "id": "0230ed8d-bf39-4d1b-b9d1-6fa5f218b08c",
   "metadata": {},
   "source": [
    "# NumPy Functions"
   ]
  },
  {
   "cell_type": "code",
   "execution_count": 1,
   "id": "23333d2f-5f80-4ea6-b135-012a815c73e0",
   "metadata": {},
   "outputs": [],
   "source": [
    "import numpy as np"
   ]
  },
  {
   "cell_type": "code",
   "execution_count": 3,
   "id": "1989c826-6e53-4af2-8f0b-9daa7359be34",
   "metadata": {},
   "outputs": [
    {
     "data": {
      "text/plain": [
       "0.4343280670091243"
      ]
     },
     "execution_count": 3,
     "metadata": {},
     "output_type": "execute_result"
    }
   ],
   "source": [
    "np.random.random()"
   ]
  },
  {
   "cell_type": "code",
   "execution_count": 5,
   "id": "66fbd9fc-60ac-4f15-b5a3-2ff8d7d0c55c",
   "metadata": {},
   "outputs": [
    {
     "data": {
      "text/plain": [
       "0.417022004702574"
      ]
     },
     "execution_count": 5,
     "metadata": {},
     "output_type": "execute_result"
    }
   ],
   "source": [
    "np.random.seed(1)\n",
    "np.random.random()"
   ]
  },
  {
   "cell_type": "code",
   "execution_count": 6,
   "id": "4806ed10-8daa-4dc2-b71f-14d85da6e548",
   "metadata": {},
   "outputs": [
    {
     "data": {
      "text/plain": [
       "72.31212485077366"
      ]
     },
     "execution_count": 6,
     "metadata": {},
     "output_type": "execute_result"
    }
   ],
   "source": [
    "np.random.uniform(1, 100)"
   ]
  },
  {
   "cell_type": "code",
   "execution_count": 7,
   "id": "57dd0b7c-458a-43c4-9879-58307b3e702f",
   "metadata": {},
   "outputs": [
    {
     "data": {
      "text/plain": [
       "array([ 1.01132311, 30.93092469, 15.52883319, 10.14152088, 19.43976093,\n",
       "       35.21051198, 40.27997995, 54.34285667, 42.50025693, 68.83673054])"
      ]
     },
     "execution_count": 7,
     "metadata": {},
     "output_type": "execute_result"
    }
   ],
   "source": [
    "np.random.uniform(1, 100, 10)"
   ]
  },
  {
   "cell_type": "code",
   "execution_count": 8,
   "id": "f9edf001-7bc4-4ddc-8f84-3448f1e22dbe",
   "metadata": {},
   "outputs": [
    {
     "data": {
      "text/plain": [
       "array([[21.24077272, 87.9336262 ],\n",
       "       [ 3.71137173, 67.37628351],\n",
       "       [42.31317543, 56.31029302],\n",
       "       [14.89830692, 20.61204742],\n",
       "       [80.2737123 , 96.857896  ]])"
      ]
     },
     "execution_count": 8,
     "metadata": {},
     "output_type": "execute_result"
    }
   ],
   "source": [
    "np.random.uniform(1, 100, 10).reshape(5, 2)"
   ]
  },
  {
   "cell_type": "code",
   "execution_count": 9,
   "id": "8610182a-f5d0-4c98-975d-e446f04381eb",
   "metadata": {},
   "outputs": [
    {
     "data": {
      "text/plain": [
       "7"
      ]
     },
     "execution_count": 9,
     "metadata": {},
     "output_type": "execute_result"
    }
   ],
   "source": [
    "np.random.randint(1, 10)"
   ]
  },
  {
   "cell_type": "code",
   "execution_count": 10,
   "id": "d7ea8a63-52d1-486a-a8c6-e8420056f929",
   "metadata": {},
   "outputs": [
    {
     "data": {
      "text/plain": [
       "array([[58,  2,  1, 61, 82],\n",
       "       [ 9, 89, 14, 48, 73],\n",
       "       [31, 72,  4, 71, 22],\n",
       "       [50, 58,  4, 69, 25]], dtype=int32)"
      ]
     },
     "execution_count": 10,
     "metadata": {},
     "output_type": "execute_result"
    }
   ],
   "source": [
    "np.random.randint(1, 100, 20).reshape(4, 5)"
   ]
  },
  {
   "cell_type": "code",
   "execution_count": 12,
   "id": "32d9913c-e1a5-4099-8c43-033e5411726b",
   "metadata": {},
   "outputs": [
    {
     "name": "stdout",
     "output_type": "stream",
     "text": [
      "[[ 47 161 152 184  66 114  78   4]\n",
      " [129   7  53 199   3  77 150   8]\n",
      " [ 78  76  77  44  21  31  37 104]\n",
      " [  8  46 197  58  97  14  11  24]\n",
      " [125  82 136 122 153 149 161 141]]\n",
      "199\n"
     ]
    }
   ],
   "source": [
    "array = np.random.randint(1, 200, 40).reshape(5, 8)\n",
    "print(array)\n",
    "print(array.max())"
   ]
  },
  {
   "cell_type": "code",
   "execution_count": 13,
   "id": "6c31895e-b322-4a89-9f9b-79727f6f638b",
   "metadata": {},
   "outputs": [
    {
     "name": "stdout",
     "output_type": "stream",
     "text": [
      "[[ 47 161 152 184  66 114  78   4]\n",
      " [129   7  53 199   3  77 150   8]\n",
      " [ 78  76  77  44  21  31  37 104]\n",
      " [  8  46 197  58  97  14  11  24]\n",
      " [125  82 136 122 153 149 161 141]]\n",
      "3\n"
     ]
    }
   ],
   "source": [
    "print(array)\n",
    "print(array.min())"
   ]
  },
  {
   "cell_type": "code",
   "execution_count": 14,
   "id": "3e46869e-df73-4763-b0c7-a5c51de14d15",
   "metadata": {},
   "outputs": [
    {
     "name": "stdout",
     "output_type": "stream",
     "text": [
      "[[ 47 161 152 184  66 114  78   4]\n",
      " [129   7  53 199   3  77 150   8]\n",
      " [ 78  76  77  44  21  31  37 104]\n",
      " [  8  46 197  58  97  14  11  24]\n",
      " [125  82 136 122 153 149 161 141]]\n",
      "11\n"
     ]
    }
   ],
   "source": [
    "print(array)\n",
    "print(array.argmax()) # will give the index of the maximum value"
   ]
  },
  {
   "cell_type": "code",
   "execution_count": 15,
   "id": "60fe2339-67b4-4c72-8e6a-9376a61e9077",
   "metadata": {},
   "outputs": [
    {
     "name": "stdout",
     "output_type": "stream",
     "text": [
      "[[ 47 161 152 184  66 114  78   4]\n",
      " [129   7  53 199   3  77 150   8]\n",
      " [ 78  76  77  44  21  31  37 104]\n",
      " [  8  46 197  58  97  14  11  24]\n",
      " [125  82 136 122 153 149 161 141]]\n",
      "12\n"
     ]
    }
   ],
   "source": [
    "print(array)\n",
    "print(array.argmin()) # will give the index of the minimum value"
   ]
  },
  {
   "cell_type": "code",
   "execution_count": 18,
   "id": "969ce68a-7065-415c-aaff-d038c028aaa1",
   "metadata": {},
   "outputs": [
    {
     "name": "stdout",
     "output_type": "stream",
     "text": [
      "[-1 -1  8  8 -1 -1]\n"
     ]
    }
   ],
   "source": [
    "array_2 = np.random.randint(1, 10, 6)\n",
    "array_2[array_2%2!=0]=-1\n",
    "print(array_2)"
   ]
  },
  {
   "cell_type": "code",
   "execution_count": 20,
   "id": "7ce80c2e-4348-4b38-ade9-edfcdf2884e0",
   "metadata": {},
   "outputs": [
    {
     "name": "stdout",
     "output_type": "stream",
     "text": [
      "[38 14 34 21 11 33]\n"
     ]
    }
   ],
   "source": [
    "array_3 = np.random.randint(1, 50, 6)\n",
    "print(array_3)"
   ]
  },
  {
   "cell_type": "code",
   "execution_count": 24,
   "id": "aef1b545-a0f2-403a-8b87-9001b667c70e",
   "metadata": {},
   "outputs": [
    {
     "data": {
      "text/plain": [
       "array([ 0,  0,  0, -1, -1, -1])"
      ]
     },
     "execution_count": 24,
     "metadata": {},
     "output_type": "execute_result"
    }
   ],
   "source": [
    "np.where(array_3%2!=0, -1, 0)"
   ]
  },
  {
   "cell_type": "code",
   "execution_count": 28,
   "id": "f308ac55-7cd1-4711-9376-acae082b874e",
   "metadata": {},
   "outputs": [
    {
     "name": "stdout",
     "output_type": "stream",
     "text": [
      "New Array: [38 14 34 -1 -1 -1]\n",
      "Old Array: [38 14 34 21 11 33]\n"
     ]
    }
   ],
   "source": [
    "new_array = np.where(array_3%2!=0, -1, array_3)\n",
    "print(f\"New Array: {new_array}\")\n",
    "print(f\"Old Array: {array_3}\")"
   ]
  },
  {
   "cell_type": "code",
   "execution_count": 35,
   "id": "46abec09-c6b9-4eaa-acf4-924136f5b381",
   "metadata": {},
   "outputs": [
    {
     "data": {
      "text/plain": [
       "array([22, 41, 14, 28, 48, 14, 41, 15, 46, 24], dtype=int32)"
      ]
     },
     "execution_count": 35,
     "metadata": {},
     "output_type": "execute_result"
    }
   ],
   "source": [
    "array_4 = np.random.randint(1, 50, 10)\n",
    "array_4"
   ]
  },
  {
   "cell_type": "code",
   "execution_count": 36,
   "id": "4a5849c5-4633-4248-9553-54b5d89e7cd9",
   "metadata": {},
   "outputs": [
    {
     "data": {
      "text/plain": [
       "array([14, 14, 15, 22, 24, 28, 41, 41, 46, 48], dtype=int32)"
      ]
     },
     "execution_count": 36,
     "metadata": {},
     "output_type": "execute_result"
    }
   ],
   "source": [
    "np.sort(array_4)"
   ]
  },
  {
   "cell_type": "code",
   "execution_count": 38,
   "id": "faac1f98-868e-469b-9ea6-bd0f36927307",
   "metadata": {},
   "outputs": [
    {
     "data": {
      "text/plain": [
       "np.float64(23.2)"
      ]
     },
     "execution_count": 38,
     "metadata": {},
     "output_type": "execute_result"
    }
   ],
   "source": [
    "np.percentile(array_4, 40)"
   ]
  },
  {
   "cell_type": "code",
   "execution_count": 39,
   "id": "25b75955-d302-49f5-8395-3207713792ca",
   "metadata": {},
   "outputs": [
    {
     "data": {
      "text/plain": [
       "np.float64(14.98)"
      ]
     },
     "execution_count": 39,
     "metadata": {},
     "output_type": "execute_result"
    }
   ],
   "source": [
    "np.percentile(array_4, 22)"
   ]
  },
  {
   "cell_type": "code",
   "execution_count": 40,
   "id": "d646c2c2-7e10-422a-9343-1404b61bfa9f",
   "metadata": {},
   "outputs": [
    {
     "data": {
      "text/plain": [
       "np.float64(26.0)"
      ]
     },
     "execution_count": 40,
     "metadata": {},
     "output_type": "execute_result"
    }
   ],
   "source": [
    "np.percentile(array_4, 50)"
   ]
  }
 ],
 "metadata": {
  "kernelspec": {
   "display_name": "Python [conda env:base] *",
   "language": "python",
   "name": "conda-base-py"
  },
  "language_info": {
   "codemirror_mode": {
    "name": "ipython",
    "version": 3
   },
   "file_extension": ".py",
   "mimetype": "text/x-python",
   "name": "python",
   "nbconvert_exporter": "python",
   "pygments_lexer": "ipython3",
   "version": "3.13.5"
  }
 },
 "nbformat": 4,
 "nbformat_minor": 5
}
