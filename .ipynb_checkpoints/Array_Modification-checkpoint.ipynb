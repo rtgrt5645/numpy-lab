{
 "cells": [
  {
   "cell_type": "markdown",
   "id": "40697a6f-a8c0-408e-9bd1-747b96352a5b",
   "metadata": {},
   "source": [
    "# Array Modification"
   ]
  },
  {
   "cell_type": "markdown",
   "id": "2d6be601-7e67-4d85-a16a-c17f39b3b8c2",
   "metadata": {},
   "source": [
    "<p> We can add elements in numpy array in different ways. </p>"
   ]
  },
  {
   "cell_type": "markdown",
   "id": "e4cbba24-0282-4b66-a925-aa61ae4fab26",
   "metadata": {},
   "source": [
    "## .insert()"
   ]
  },
  {
   "cell_type": "code",
   "execution_count": 1,
   "id": "ba9814ff-aaf9-4175-8354-6b44ee86ab88",
   "metadata": {},
   "outputs": [],
   "source": [
    "import numpy as np"
   ]
  },
  {
   "cell_type": "code",
   "execution_count": 5,
   "id": "007d9ffb-c0f0-48ba-a1e8-682c654b30ea",
   "metadata": {},
   "outputs": [
    {
     "name": "stdout",
     "output_type": "stream",
     "text": [
      "Old Array: [ 2  4  6  8 10]\n",
      "New Array: [ 0  2  4  6  8 10]\n"
     ]
    }
   ],
   "source": [
    "array_1 = np.array([2, 4, 6, 8, 10])\n",
    "new_array_1 = np.insert(array_1, 0, 0, axis=0)\n",
    "print(f\"Old Array: {array_1}\")\n",
    "print(f\"New Array: {new_array_1}\")"
   ]
  },
  {
   "cell_type": "code",
   "execution_count": 12,
   "id": "e63cc7f2-3a96-4aa5-9f09-aa3587b5b2fa",
   "metadata": {},
   "outputs": [
    {
     "name": "stdout",
     "output_type": "stream",
     "text": [
      "Old Array:\n",
      " [[ 1  6 11 16 21]\n",
      " [26 31 36 41 46]\n",
      " [51 56 61 66 71]\n",
      " [76 81 86 91 96]]\n",
      "New Array:\n",
      " [[ 1  6 11 16 21]\n",
      " [ 2  4  8  9 15]\n",
      " [26 31 36 41 46]\n",
      " [51 56 61 66 71]\n",
      " [76 81 86 91 96]]\n"
     ]
    }
   ],
   "source": [
    "array_2 = np.arange(1, 100, 5).reshape(4, 5)\n",
    "new_array_2 = np.insert(array_2, 1, [2, 4, 8, 9, 15], axis=0)\n",
    "print(f\"Old Array:\\n {array_2}\")\n",
    "print(f\"New Array:\\n {new_array_2}\")"
   ]
  },
  {
   "cell_type": "code",
   "execution_count": 14,
   "id": "ee4b7a85-e9d1-4f8e-a9dc-d8cc543d9239",
   "metadata": {},
   "outputs": [
    {
     "name": "stdout",
     "output_type": "stream",
     "text": [
      "Old Array:\n",
      " [[ 1  6 11 16 21]\n",
      " [26 31 36 41 46]\n",
      " [51 56 61 66 71]\n",
      " [76 81 86 91 96]]\n",
      "New Array:\n",
      " [[ 1  2  6 11 16 21]\n",
      " [26  4 31 36 41 46]\n",
      " [51  8 56 61 66 71]\n",
      " [76  9 81 86 91 96]]\n"
     ]
    }
   ],
   "source": [
    "array_3 = np.arange(1, 100, 5).reshape(4, 5)\n",
    "new_array_3 = np.insert(array_3, 1, [2, 4, 8, 9], axis=1)\n",
    "print(f\"Old Array:\\n {array_3}\")\n",
    "print(f\"New Array:\\n {new_array_3}\")"
   ]
  },
  {
   "cell_type": "markdown",
   "id": "5ee79a5c-210c-400c-8e4f-1ded03cca098",
   "metadata": {},
   "source": [
    "## .append()"
   ]
  },
  {
   "cell_type": "code",
   "execution_count": 26,
   "id": "dd2042da-0f19-4fd4-8605-e75bc8d8e0aa",
   "metadata": {},
   "outputs": [],
   "source": [
    "array_4 = np.arange(0, 50, 2).reshape(5, 5)\n",
    "new_array_4 = np.append()"
   ]
  },
  {
   "cell_type": "code",
   "execution_count": null,
   "id": "bcaeb312-2abe-4d55-af7e-1872ef4d0a59",
   "metadata": {},
   "outputs": [],
   "source": []
  }
 ],
 "metadata": {
  "kernelspec": {
   "display_name": "Python [conda env:base] *",
   "language": "python",
   "name": "conda-base-py"
  },
  "language_info": {
   "codemirror_mode": {
    "name": "ipython",
    "version": 3
   },
   "file_extension": ".py",
   "mimetype": "text/x-python",
   "name": "python",
   "nbconvert_exporter": "python",
   "pygments_lexer": "ipython3",
   "version": "3.13.5"
  }
 },
 "nbformat": 4,
 "nbformat_minor": 5
}
