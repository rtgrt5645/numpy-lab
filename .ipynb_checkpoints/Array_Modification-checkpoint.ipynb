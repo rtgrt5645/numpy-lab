{
 "cells": [
  {
   "cell_type": "markdown",
   "id": "40697a6f-a8c0-408e-9bd1-747b96352a5b",
   "metadata": {},
   "source": [
    "# Array Modification"
   ]
  },
  {
   "cell_type": "markdown",
   "id": "2d6be601-7e67-4d85-a16a-c17f39b3b8c2",
   "metadata": {},
   "source": [
    "<p> We can modify numpy array in different ways. </p>"
   ]
  },
  {
   "cell_type": "markdown",
   "id": "e4cbba24-0282-4b66-a925-aa61ae4fab26",
   "metadata": {},
   "source": [
    "## .insert()"
   ]
  },
  {
   "cell_type": "code",
   "execution_count": 1,
   "id": "ba9814ff-aaf9-4175-8354-6b44ee86ab88",
   "metadata": {},
   "outputs": [],
   "source": [
    "import numpy as np"
   ]
  },
  {
   "cell_type": "code",
   "execution_count": 2,
   "id": "007d9ffb-c0f0-48ba-a1e8-682c654b30ea",
   "metadata": {},
   "outputs": [
    {
     "name": "stdout",
     "output_type": "stream",
     "text": [
      "Old Array: [ 2  4  6  8 10]\n",
      "New Array: [ 0  2  4  6  8 10]\n"
     ]
    }
   ],
   "source": [
    "array_1 = np.array([2, 4, 6, 8, 10])\n",
    "new_array_1 = np.insert(array_1, 0, 0, axis=0)\n",
    "print(f\"Old Array: {array_1}\")\n",
    "print(f\"New Array: {new_array_1}\")"
   ]
  },
  {
   "cell_type": "code",
   "execution_count": 3,
   "id": "e63cc7f2-3a96-4aa5-9f09-aa3587b5b2fa",
   "metadata": {},
   "outputs": [
    {
     "name": "stdout",
     "output_type": "stream",
     "text": [
      "Old Array:\n",
      " [[ 1  6 11 16 21]\n",
      " [26 31 36 41 46]\n",
      " [51 56 61 66 71]\n",
      " [76 81 86 91 96]]\n",
      "New Array:\n",
      " [[ 1  6 11 16 21]\n",
      " [ 2  4  8  9 15]\n",
      " [26 31 36 41 46]\n",
      " [51 56 61 66 71]\n",
      " [76 81 86 91 96]]\n"
     ]
    }
   ],
   "source": [
    "array_2 = np.arange(1, 100, 5).reshape(4, 5)\n",
    "new_array_2 = np.insert(array_2, 1, [2, 4, 8, 9, 15], axis=0)\n",
    "print(f\"Old Array:\\n {array_2}\")\n",
    "print(f\"New Array:\\n {new_array_2}\")"
   ]
  },
  {
   "cell_type": "code",
   "execution_count": 4,
   "id": "ee4b7a85-e9d1-4f8e-a9dc-d8cc543d9239",
   "metadata": {},
   "outputs": [
    {
     "name": "stdout",
     "output_type": "stream",
     "text": [
      "Old Array:\n",
      " [[ 1  6 11 16 21]\n",
      " [26 31 36 41 46]\n",
      " [51 56 61 66 71]\n",
      " [76 81 86 91 96]]\n",
      "New Array:\n",
      " [[ 1  2  6 11 16 21]\n",
      " [26  4 31 36 41 46]\n",
      " [51  8 56 61 66 71]\n",
      " [76  9 81 86 91 96]]\n"
     ]
    }
   ],
   "source": [
    "array_3 = np.arange(1, 100, 5).reshape(4, 5)\n",
    "new_array_3 = np.insert(array_3, 1, [2, 4, 8, 9], axis=1)\n",
    "print(f\"Old Array:\\n {array_3}\")\n",
    "print(f\"New Array:\\n {new_array_3}\")"
   ]
  },
  {
   "cell_type": "markdown",
   "id": "5ee79a5c-210c-400c-8e4f-1ded03cca098",
   "metadata": {},
   "source": [
    "## .append()"
   ]
  },
  {
   "cell_type": "code",
   "execution_count": 8,
   "id": "dd2042da-0f19-4fd4-8605-e75bc8d8e0aa",
   "metadata": {},
   "outputs": [
    {
     "name": "stdout",
     "output_type": "stream",
     "text": [
      "[[ 0  2  4  6  8]\n",
      " [10 12 14 16 18]\n",
      " [20 22 24 26 28]\n",
      " [30 32 34 36 38]\n",
      " [40 42 44 46 48]\n",
      " [15 25 35 45 55]]\n"
     ]
    }
   ],
   "source": [
    "array_4 = np.arange(0, 50, 2).reshape(5, 5)\n",
    "# new_list = np.array([[15, 25, 35, 45, 55]])\n",
    "new_array_4 = np.append(array_4, np.array([[15, 25, 35, 45, 55]]), axis=0)\n",
    "print(new_array_4)"
   ]
  },
  {
   "cell_type": "code",
   "execution_count": 9,
   "id": "bcaeb312-2abe-4d55-af7e-1872ef4d0a59",
   "metadata": {},
   "outputs": [
    {
     "name": "stdout",
     "output_type": "stream",
     "text": [
      "[1 2 3 4 5 6]\n"
     ]
    }
   ],
   "source": [
    "array_5 = np.array([1, 2, 3, 4, 5])\n",
    "new_array_5 = np.append(array_5, 6)\n",
    "print(new_array_5)"
   ]
  },
  {
   "cell_type": "code",
   "execution_count": 10,
   "id": "6cd938f3-e861-4851-8e08-9ca18d0934b2",
   "metadata": {},
   "outputs": [
    {
     "name": "stdout",
     "output_type": "stream",
     "text": [
      "[[ 0  2  4  6  8 15]\n",
      " [10 12 14 16 18 25]\n",
      " [20 22 24 26 28 35]\n",
      " [30 32 34 36 38 45]\n",
      " [40 42 44 46 48 55]]\n"
     ]
    }
   ],
   "source": [
    "array_6 = np.arange(0, 50, 2).reshape(5, 5)\n",
    "# new_list = np.array([[15, 25, 35, 45, 55]])\n",
    "new_array_6 = np.append(array_6, np.array([[15], [25], [35], [45], [55]]), axis=1)\n",
    "print(new_array_6)"
   ]
  },
  {
   "cell_type": "markdown",
   "id": "8539b0c8-4a43-43e3-9557-4e050905bb53",
   "metadata": {},
   "source": [
    "## .concatenate()"
   ]
  },
  {
   "cell_type": "code",
   "execution_count": 15,
   "id": "ee520795-c167-430a-9491-624da34a996d",
   "metadata": {},
   "outputs": [
    {
     "name": "stdout",
     "output_type": "stream",
     "text": [
      "[1 2 3 4 5 6]\n"
     ]
    }
   ],
   "source": [
    "array_7a = np.array([1, 2, 3])\n",
    "array_7b = np.array([4, 5, 6])\n",
    "print(np.concatenate((array_7a, array_7b), axis=0))"
   ]
  },
  {
   "cell_type": "markdown",
   "id": "4e14ea29-50d4-433c-8735-9e5beadc2f50",
   "metadata": {},
   "source": [
    "## .delete()"
   ]
  },
  {
   "cell_type": "code",
   "execution_count": 16,
   "id": "805b4b25-f846-4e8e-bcf3-e274912a5bee",
   "metadata": {},
   "outputs": [
    {
     "name": "stdout",
     "output_type": "stream",
     "text": [
      "Old Array: \n",
      "[ 0  5 10 15 20 25 30 35 40 45]\n",
      "New Array: \n",
      "[ 0  5 10 15 20 30 35 40 45]\n"
     ]
    }
   ],
   "source": [
    "array_8 = np.arange(0, 50, 5)\n",
    "new_array_8 = np.delete(array_8, 5)\n",
    "print(f\"Old Array: \\n{array_8}\\nNew Array: \\n{new_array_8}\")"
   ]
  },
  {
   "cell_type": "code",
   "execution_count": 17,
   "id": "36642bf0-bd83-4961-9231-f6180dff52b0",
   "metadata": {},
   "outputs": [
    {
     "name": "stdout",
     "output_type": "stream",
     "text": [
      "Old Array: \n",
      "[[ 0  5 10 15]\n",
      " [20 25 30 35]\n",
      " [40 45 50 55]\n",
      " [60 65 70 75]\n",
      " [80 85 90 95]]\n",
      "New Array: \n",
      "[[ 0  5 15]\n",
      " [20 25 35]\n",
      " [40 45 55]\n",
      " [60 65 75]\n",
      " [80 85 95]]\n"
     ]
    }
   ],
   "source": [
    "array_9 = np.arange(0, 100, 5).reshape(5,4)\n",
    "new_array_9 = np.delete(array_9, 2, axis=1)\n",
    "print(f\"Old Array: \\n{array_9}\\nNew Array: \\n{new_array_9}\")"
   ]
  },
  {
   "cell_type": "code",
   "execution_count": 18,
   "id": "e105c9e1-fb88-4057-88ed-035161acc21a",
   "metadata": {},
   "outputs": [
    {
     "name": "stdout",
     "output_type": "stream",
     "text": [
      "Old Array: \n",
      "[[ 0  5 10 15]\n",
      " [20 25 30 35]\n",
      " [40 45 50 55]\n",
      " [60 65 70 75]\n",
      " [80 85 90 95]]\n",
      "New Array: \n",
      "[[ 0  5 10 15]\n",
      " [20 25 30 35]\n",
      " [60 65 70 75]\n",
      " [80 85 90 95]]\n"
     ]
    }
   ],
   "source": [
    "array_10 = np.arange(0, 100, 5).reshape(5,4)\n",
    "new_array_10 = np.delete(array_10, 2, axis=0)\n",
    "print(f\"Old Array: \\n{array_10}\\nNew Array: \\n{new_array_10}\")"
   ]
  },
  {
   "cell_type": "code",
   "execution_count": null,
   "id": "bc8e6366-8b67-4691-b40f-2c7a733b6afe",
   "metadata": {},
   "outputs": [],
   "source": []
  }
 ],
 "metadata": {
  "kernelspec": {
   "display_name": "Python [conda env:base] *",
   "language": "python",
   "name": "conda-base-py"
  },
  "language_info": {
   "codemirror_mode": {
    "name": "ipython",
    "version": 3
   },
   "file_extension": ".py",
   "mimetype": "text/x-python",
   "name": "python",
   "nbconvert_exporter": "python",
   "pygments_lexer": "ipython3",
   "version": "3.13.5"
  }
 },
 "nbformat": 4,
 "nbformat_minor": 5
}
