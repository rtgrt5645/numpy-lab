{
 "cells": [
  {
   "cell_type": "markdown",
   "id": "3c661e6b-3a6d-46ed-94c6-c27b17a461e0",
   "metadata": {},
   "source": [
    "# Handling Missing & Infinite Values"
   ]
  },
  {
   "cell_type": "markdown",
   "id": "8e791e2b-40fa-4d13-9af3-955cd4ffe655",
   "metadata": {},
   "source": [
    "## .isnan()"
   ]
  },
  {
   "cell_type": "markdown",
   "id": "ac6edaee-bc34-4e1a-b4ae-10a72b1c9368",
   "metadata": {},
   "source": [
    "<p>- NaN ---> Not a number<br>- Always return boolean (True/Flase)</p>"
   ]
  },
  {
   "cell_type": "code",
   "execution_count": 1,
   "id": "dc49fe86-9d8a-4217-8b09-d3bc68b897d9",
   "metadata": {},
   "outputs": [],
   "source": [
    "import numpy as np"
   ]
  },
  {
   "cell_type": "code",
   "execution_count": 4,
   "id": "a3cc9742-eb73-4dfe-b3fe-f3a26e1fa6ff",
   "metadata": {},
   "outputs": [
    {
     "name": "stdout",
     "output_type": "stream",
     "text": [
      "[False  True False False  True False]\n"
     ]
    }
   ],
   "source": [
    "array_1 = np.array([55, np.nan, 15, 20, np.nan, 82])\n",
    "print(np.isnan(array_1))"
   ]
  },
  {
   "cell_type": "markdown",
   "id": "49ef5499-40fd-4f37-aa44-d3ddda023528",
   "metadata": {},
   "source": [
    "## .nan_to_num()"
   ]
  },
  {
   "cell_type": "markdown",
   "id": "d6884876-f133-472c-a821-1dedfa0b14f4",
   "metadata": {},
   "source": [
    "<p>Use to handle missing values in data.</p>"
   ]
  },
  {
   "cell_type": "code",
   "execution_count": 5,
   "id": "d6bea8ed-3f23-4f29-8d00-7e70b71d39b1",
   "metadata": {},
   "outputs": [
    {
     "name": "stdout",
     "output_type": "stream",
     "text": [
      "[55.  0. 15. 20.  0. 82.]\n"
     ]
    }
   ],
   "source": [
    "array_2 = np.array([55, np.nan, 15, 20, np.nan, 82])\n",
    "cleaned_array_2 = np.nan_to_num(array_2, nan=0)\n",
    "print(cleaned_array_2)"
   ]
  },
  {
   "cell_type": "markdown",
   "id": "44d809b6-a0af-40de-ade3-46dfedcfc929",
   "metadata": {},
   "source": [
    "## .isinf()"
   ]
  },
  {
   "cell_type": "markdown",
   "id": "63fc29b2-a241-4ec2-abad-ac8866428b00",
   "metadata": {},
   "source": [
    "<p>To check if there any infinite value in array, and it will return bollean.</p>"
   ]
  },
  {
   "cell_type": "code",
   "execution_count": 6,
   "id": "f22916f3-b664-46e6-ad57-420aff3b0d01",
   "metadata": {},
   "outputs": [
    {
     "name": "stdout",
     "output_type": "stream",
     "text": [
      "[False False False False False False  True False  True]\n"
     ]
    }
   ],
   "source": [
    "array_3 = np.array([55, np.nan, 15, 20, np.nan, 82, -np.inf, 111, np.inf])\n",
    "print(np.isinf(array_3))"
   ]
  },
  {
   "cell_type": "code",
   "execution_count": 7,
   "id": "56c32ecd-133f-459b-8339-33a17823612a",
   "metadata": {},
   "outputs": [
    {
     "name": "stdout",
     "output_type": "stream",
     "text": [
      "[False False False False False False  True False  True]\n",
      "[   55.     1.    15.    20.     1.    82. -1000.   111.  1000.]\n"
     ]
    }
   ],
   "source": [
    "array_4 = np.array([55, np.nan, 15, 20, np.nan, 82, -np.inf, 111, np.inf])\n",
    "print(np.isinf(array_4))\n",
    "cleaned_array_4 = np.nan_to_num(array_4, posinf=1000, neginf=-1000, nan=1)\n",
    "print(cleaned_array_4)"
   ]
  }
 ],
 "metadata": {
  "kernelspec": {
   "display_name": "Python [conda env:base] *",
   "language": "python",
   "name": "conda-base-py"
  },
  "language_info": {
   "codemirror_mode": {
    "name": "ipython",
    "version": 3
   },
   "file_extension": ".py",
   "mimetype": "text/x-python",
   "name": "python",
   "nbconvert_exporter": "python",
   "pygments_lexer": "ipython3",
   "version": "3.13.5"
  }
 },
 "nbformat": 4,
 "nbformat_minor": 5
}
