{
 "cells": [
  {
   "cell_type": "code",
   "execution_count": 1,
   "id": "277b107f-7922-4e5a-84f1-868ef4e98eae",
   "metadata": {},
   "outputs": [
    {
     "name": "stdout",
     "output_type": "stream",
     "text": [
      "Hello world\n"
     ]
    }
   ],
   "source": [
    "print(\"Hello world\")"
   ]
  },
  {
   "cell_type": "markdown",
   "id": "0fee56e0-878a-41e1-bb3c-0590fd923ad8",
   "metadata": {},
   "source": [
    "# Creating NumPy Arrays"
   ]
  },
  {
   "cell_type": "markdown",
   "id": "5881ec99-3348-454a-88c3-f2ab4b2b430f",
   "metadata": {},
   "source": [
    "<p>There are different ways to create numpy arrays</p> "
   ]
  },
  {
   "cell_type": "code",
   "execution_count": 2,
   "id": "455e4321-128e-49e5-b417-998ae6c6c781",
   "metadata": {},
   "outputs": [],
   "source": [
    "import numpy as np"
   ]
  },
  {
   "cell_type": "code",
   "execution_count": 3,
   "id": "5b11a173-f951-46a8-b6df-a419ce80b869",
   "metadata": {},
   "outputs": [
    {
     "name": "stdout",
     "output_type": "stream",
     "text": [
      "[1 2 3 4 5]\n",
      "Type of aarr1:  <class 'numpy.ndarray'>\n"
     ]
    }
   ],
   "source": [
    "arr1 = np.array([1, 2, 3, 4, 5]) #1 Dimensional_Array\n",
    "print(arr1)\n",
    "print(\"Type of aarr1: \", type(arr1))\n",
    "#print(\"Dimention of arr1: \", np.ndim(arr1) "
   ]
  },
  {
   "cell_type": "code",
   "execution_count": 4,
   "id": "1f0f1917-eeba-4e4e-9e1b-5d9fd6b8d420",
   "metadata": {},
   "outputs": [
    {
     "name": "stdout",
     "output_type": "stream",
     "text": [
      "[[1 2 3]\n",
      " [4 5 6]]\n"
     ]
    }
   ],
   "source": [
    "arr2 = np.array([[1, 2, 3], [4, 5, 6]])\n",
    "print(arr2)"
   ]
  },
  {
   "cell_type": "code",
   "execution_count": 5,
   "id": "2ff4a443-96c5-4712-bba2-1a010e70ffb2",
   "metadata": {},
   "outputs": [
    {
     "name": "stdout",
     "output_type": "stream",
     "text": [
      "[[0. 0. 0.]\n",
      " [0. 0. 0.]]\n"
     ]
    }
   ],
   "source": [
    "arr3 = np.zeros((2, 3)) #2 ---> Rows, 3 ---> Columns\n",
    "print(arr3)"
   ]
  },
  {
   "cell_type": "code",
   "execution_count": 6,
   "id": "9707fe54-c6f2-4bc0-b490-cdcd4e6f6839",
   "metadata": {},
   "outputs": [
    {
     "name": "stdout",
     "output_type": "stream",
     "text": [
      "[[1. 1. 1. 1. 1.]\n",
      " [1. 1. 1. 1. 1.]\n",
      " [1. 1. 1. 1. 1.]]\n"
     ]
    }
   ],
   "source": [
    "arr4 = np.ones((3, 5))\n",
    "print(arr4)"
   ]
  },
  {
   "cell_type": "code",
   "execution_count": 7,
   "id": "ad110f6d-e9cf-4603-ac83-3386857dd81f",
   "metadata": {},
   "outputs": [
    {
     "name": "stdout",
     "output_type": "stream",
     "text": [
      "[[1. 0. 0. 0. 0.]\n",
      " [0. 1. 0. 0. 0.]\n",
      " [0. 0. 1. 0. 0.]\n",
      " [0. 0. 0. 1. 0.]\n",
      " [0. 0. 0. 0. 1.]]\n"
     ]
    }
   ],
   "source": [
    "arr5 = np.identity(5) # 5 ---> Rows and Columns\n",
    "print(arr5)"
   ]
  },
  {
   "cell_type": "code",
   "execution_count": 8,
   "id": "3045db41-eb4c-43d6-86be-e91a4745ea06",
   "metadata": {},
   "outputs": [
    {
     "name": "stdout",
     "output_type": "stream",
     "text": [
      "[ 0  1  2  3  4  5  6  7  8  9 10]\n"
     ]
    }
   ],
   "source": [
    "arr6 = np.arange(11) # will create an array\n",
    "print(arr6)"
   ]
  },
  {
   "cell_type": "code",
   "execution_count": 9,
   "id": "8466e25e-e41c-4927-8449-c8f20f9e590c",
   "metadata": {},
   "outputs": [
    {
     "name": "stdout",
     "output_type": "stream",
     "text": [
      "[ 1  2  3  4  5  6  7  8  9 10 11 12 13 14 15 16 17 18 19]\n"
     ]
    }
   ],
   "source": [
    "arr7 = np.arange(1, 20) # 1 ---> Startin range, 11 ---> Ending range (exclusive) means n-1\n",
    "print(arr7)"
   ]
  },
  {
   "cell_type": "code",
   "execution_count": 10,
   "id": "d4eedc2c-a897-4dd9-8d9c-0d869df733de",
   "metadata": {},
   "outputs": [
    {
     "name": "stdout",
     "output_type": "stream",
     "text": [
      "[ 1  3  5  7  9 11 13 15 17 19]\n"
     ]
    }
   ],
   "source": [
    "arr8 = np.arange(1, 20, 2) \n",
    "\"\"\" 1 ---> Startin range, \n",
    "    11 ---> Ending range (exclusive) means n-1,\n",
    "    2 ---> Steps\n",
    "\"\"\"\n",
    "print(arr8)"
   ]
  },
  {
   "cell_type": "code",
   "execution_count": 11,
   "id": "be25addc-e98f-4e59-b5ad-412cab7be8bb",
   "metadata": {},
   "outputs": [
    {
     "name": "stdout",
     "output_type": "stream",
     "text": [
      "[ 1.    3.25  5.5   7.75 10.  ]\n"
     ]
    }
   ],
   "source": [
    "arr9 = np.linspace(1, 10, 5) # Will generate 5 evenly spaced number between 1 and 10 (inclusive) \n",
    "print(arr9)"
   ]
  },
  {
   "cell_type": "code",
   "execution_count": 12,
   "id": "935d6ed7-ffff-4ca7-b156-e1ddcbe3e06b",
   "metadata": {},
   "outputs": [
    {
     "name": "stdout",
     "output_type": "stream",
     "text": [
      "[1.  2.8 4.6 6.4 8.2]\n"
     ]
    }
   ],
   "source": [
    "arr10 = np.linspace(1, 10, 5, endpoint = False) # Will generate 5 evenly spaced number between 1 and 10 (exclusive of 10) \n",
    "print(arr10)"
   ]
  },
  {
   "cell_type": "code",
   "execution_count": 13,
   "id": "b6321d59-c19e-4841-8e64-e85b11dbc3b3",
   "metadata": {},
   "outputs": [
    {
     "name": "stdout",
     "output_type": "stream",
     "text": [
      "[1.  2.8 4.6 6.4 8.2]\n"
     ]
    }
   ],
   "source": [
    "arr11 = arr10.copy() # will create a copy of arr10\n",
    "print(arr11)"
   ]
  },
  {
   "cell_type": "code",
   "execution_count": 14,
   "id": "9ff81fdd-118b-4dba-9706-4d901da0d67a",
   "metadata": {},
   "outputs": [
    {
     "name": "stdout",
     "output_type": "stream",
     "text": [
      "[[3 3 3]\n",
      " [3 3 3]\n",
      " [3 3 3]]\n"
     ]
    }
   ],
   "source": [
    "arr12 = np.full((3, 3), 3)\n",
    "print(arr12)"
   ]
  },
  {
   "cell_type": "code",
   "execution_count": 20,
   "id": "07e0c3c3-1a1a-4c54-8913-8b7c10fbcdaf",
   "metadata": {},
   "outputs": [
    {
     "name": "stdout",
     "output_type": "stream",
     "text": [
      "[[1. 0. 0. 0. 0. 0.]\n",
      " [0. 1. 0. 0. 0. 0.]\n",
      " [0. 0. 1. 0. 0. 0.]\n",
      " [0. 0. 0. 1. 0. 0.]\n",
      " [0. 0. 0. 0. 1. 0.]\n",
      " [0. 0. 0. 0. 0. 1.]\n",
      " [0. 0. 0. 0. 0. 0.]]\n"
     ]
    }
   ],
   "source": [
    "arr13 = np.eye(7, 6)\n",
    "print(arr13)"
   ]
  },
  {
   "cell_type": "code",
   "execution_count": null,
   "id": "cc79ea52-2d60-4e39-801f-cbda1434713d",
   "metadata": {},
   "outputs": [],
   "source": []
  }
 ],
 "metadata": {
  "kernelspec": {
   "display_name": "Python [conda env:base] *",
   "language": "python",
   "name": "conda-base-py"
  },
  "language_info": {
   "codemirror_mode": {
    "name": "ipython",
    "version": 3
   },
   "file_extension": ".py",
   "mimetype": "text/x-python",
   "name": "python",
   "nbconvert_exporter": "python",
   "pygments_lexer": "ipython3",
   "version": "3.13.5"
  }
 },
 "nbformat": 4,
 "nbformat_minor": 5
}
