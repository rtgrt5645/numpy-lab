{
 "cells": [
  {
   "cell_type": "markdown",
   "id": "7fe16862-d7d2-4c0d-a0c6-051f06ec500e",
   "metadata": {},
   "source": [
    "# Indexing, Slicing, & Iteration"
   ]
  },
  {
   "cell_type": "code",
   "execution_count": 1,
   "id": "848e6486-5ddc-48cd-8d6b-b7f28329de1f",
   "metadata": {},
   "outputs": [],
   "source": [
    "import numpy as np"
   ]
  },
  {
   "cell_type": "code",
   "execution_count": 2,
   "id": "9883bbd0-2e3f-43cb-86be-f931131e5950",
   "metadata": {},
   "outputs": [
    {
     "name": "stdout",
     "output_type": "stream",
     "text": [
      "[0 1 2 3 4]\n"
     ]
    }
   ],
   "source": [
    "arr = np.arange(5)\n",
    "print(arr)"
   ]
  },
  {
   "cell_type": "code",
   "execution_count": 3,
   "id": "0c63dfa1-97b3-4b16-bd24-5d72c0dfab9b",
   "metadata": {},
   "outputs": [
    {
     "name": "stdout",
     "output_type": "stream",
     "text": [
      "[[ 0  1  2  3  4]\n",
      " [ 5  6  7  8  9]\n",
      " [10 11 12 13 14]\n",
      " [15 16 17 18 19]\n",
      " [20 21 22 23 24]]\n"
     ]
    }
   ],
   "source": [
    "array = np.arange(25).reshape(5, 5)\n",
    "print(array)"
   ]
  },
  {
   "cell_type": "code",
   "execution_count": 4,
   "id": "1a582bef-1951-4484-ae18-cee6d628832d",
   "metadata": {},
   "outputs": [
    {
     "name": "stdout",
     "output_type": "stream",
     "text": [
      "[[ 0  1  2  3]\n",
      " [ 4  5  6  7]\n",
      " [ 8  9 10 11]\n",
      " [12 13 14 15]]\n"
     ]
    }
   ],
   "source": [
    "array_1 = np.arange(16).reshape(4, 4)\n",
    "print(array_1)"
   ]
  },
  {
   "cell_type": "markdown",
   "id": "b3cdfbd4-d32a-45a7-b5b2-d2c41070a5cb",
   "metadata": {},
   "source": [
    "### Indexing"
   ]
  },
  {
   "cell_type": "code",
   "execution_count": 5,
   "id": "73228e53-818b-4b8f-88e2-962c9bfc051e",
   "metadata": {},
   "outputs": [
    {
     "name": "stdout",
     "output_type": "stream",
     "text": [
      "2 \n",
      "[10 11 12 13 14] \n",
      "[12 13 14 15]\n"
     ]
    }
   ],
   "source": [
    "print(f\"{arr[2]} \\n{array[2]} \\n{array_1[3]}\")"
   ]
  },
  {
   "cell_type": "code",
   "execution_count": 6,
   "id": "6e085745-7b78-4c9b-8838-ecb3b41061a4",
   "metadata": {},
   "outputs": [
    {
     "name": "stdout",
     "output_type": "stream",
     "text": [
      "13 \n",
      "2\n"
     ]
    }
   ],
   "source": [
    "print(f\"{array[2][3]} \\n{array_1[0][2]}\")"
   ]
  },
  {
   "cell_type": "markdown",
   "id": "df1429fc-ac9c-431a-af86-3d61c52c68d5",
   "metadata": {},
   "source": [
    "# Slicing"
   ]
  },
  {
   "cell_type": "code",
   "execution_count": 7,
   "id": "009891c7-8ef5-4f06-8afb-7dd2471a949d",
   "metadata": {},
   "outputs": [
    {
     "name": "stdout",
     "output_type": "stream",
     "text": [
      "[[ 2  3]\n",
      " [ 7  8]\n",
      " [12 13]\n",
      " [17 18]\n",
      " [22 23]] \n",
      "\n",
      "[[ 0  2]\n",
      " [ 4  6]\n",
      " [ 8 10]\n",
      " [12 14]]\n"
     ]
    }
   ],
   "source": [
    "print(f\"{array[:,2:4]} \\n\\n{array_1[:,0:3:2]}\") # array[row, col]"
   ]
  },
  {
   "cell_type": "code",
   "execution_count": 8,
   "id": "620c002b-2dd5-4f8b-af38-0a5c12667196",
   "metadata": {},
   "outputs": [
    {
     "name": "stdout",
     "output_type": "stream",
     "text": [
      "[[11 12 13]\n",
      " [16 17 18]] \n",
      "\n",
      "[[10 11]\n",
      " [14 15]]\n"
     ]
    }
   ],
   "source": [
    "print(f\"{array[2:4, 1:4]} \\n\\n{array_1[2:, 2:]}\")"
   ]
  },
  {
   "cell_type": "markdown",
   "id": "619e592d-7058-4477-8eda-03efe179b698",
   "metadata": {},
   "source": [
    "# Iteration"
   ]
  },
  {
   "cell_type": "code",
   "execution_count": 9,
   "id": "cfe7e8d8-ec86-443c-9f5d-a1e163ece667",
   "metadata": {},
   "outputs": [
    {
     "name": "stdout",
     "output_type": "stream",
     "text": [
      "[0 1 2 3 4]\n",
      "[5 6 7 8 9]\n",
      "[10 11 12 13 14]\n",
      "[15 16 17 18 19]\n",
      "[20 21 22 23 24]\n"
     ]
    }
   ],
   "source": [
    "for i in array:\n",
    "    print(i)"
   ]
  },
  {
   "cell_type": "code",
   "execution_count": 10,
   "id": "0629c1f2-5179-4f3f-8b00-3765d18a47b6",
   "metadata": {},
   "outputs": [
    {
     "name": "stdout",
     "output_type": "stream",
     "text": [
      "0\n",
      "1\n",
      "2\n",
      "3\n",
      "4\n",
      "5\n",
      "6\n",
      "7\n",
      "8\n",
      "9\n",
      "10\n",
      "11\n",
      "12\n",
      "13\n",
      "14\n",
      "15\n",
      "16\n",
      "17\n",
      "18\n",
      "19\n",
      "20\n",
      "21\n",
      "22\n",
      "23\n",
      "24\n"
     ]
    }
   ],
   "source": [
    "for i in np.nditer(array):\n",
    "    print(i)"
   ]
  },
  {
   "cell_type": "code",
   "execution_count": null,
   "id": "92966d7c-4154-4712-a1b3-960149936f0e",
   "metadata": {},
   "outputs": [],
   "source": []
  }
 ],
 "metadata": {
  "kernelspec": {
   "display_name": "Python [conda env:base] *",
   "language": "python",
   "name": "conda-base-py"
  },
  "language_info": {
   "codemirror_mode": {
    "name": "ipython",
    "version": 3
   },
   "file_extension": ".py",
   "mimetype": "text/x-python",
   "name": "python",
   "nbconvert_exporter": "python",
   "pygments_lexer": "ipython3",
   "version": "3.13.5"
  }
 },
 "nbformat": 4,
 "nbformat_minor": 5
}
