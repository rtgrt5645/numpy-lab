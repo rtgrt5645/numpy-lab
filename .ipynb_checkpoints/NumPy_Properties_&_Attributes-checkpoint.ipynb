{
 "cells": [
  {
   "cell_type": "markdown",
   "id": "7afdbc86-4e25-4d10-835f-07fd9dbd4cf0",
   "metadata": {},
   "source": [
    "# NumPy Properties & Attributes"
   ]
  },
  {
   "cell_type": "code",
   "execution_count": 1,
   "id": "12bcc1b6-f962-4267-b18e-0267fac172a3",
   "metadata": {},
   "outputs": [],
   "source": [
    "import numpy as np"
   ]
  },
  {
   "cell_type": "markdown",
   "id": "07fbe01c-fb6f-4b8f-9122-321e85d80cda",
   "metadata": {
    "jp-MarkdownHeadingCollapsed": true
   },
   "source": [
    "### Shape ---> .shape"
   ]
  },
  {
   "cell_type": "markdown",
   "id": "daaf6c9e-bdef-403a-98da-ed77483eab77",
   "metadata": {},
   "source": [
    "<p>Shape describe the number of elements along with dimensions of the array.</p> "
   ]
  },
  {
   "cell_type": "code",
   "execution_count": 2,
   "id": "ecfafcae-eabf-4365-8c86-304e97f38ee5",
   "metadata": {},
   "outputs": [
    {
     "name": "stdout",
     "output_type": "stream",
     "text": [
      "[1 2 5]\n",
      "Shape of array 1:  (3,)\n"
     ]
    }
   ],
   "source": [
    "arr1 = np.array([1, 2, 5])\n",
    "print(arr1)\n",
    "print(\"Shape of array 1: \", arr1.shape) #(3, ) ---> indicates a one-dimensional array with 3 elements."
   ]
  },
  {
   "cell_type": "code",
   "execution_count": 3,
   "id": "6390b58c-b67c-4478-bb18-22a198553461",
   "metadata": {},
   "outputs": [
    {
     "name": "stdout",
     "output_type": "stream",
     "text": [
      "[[1 2 3]\n",
      " [4 5 6]]\n",
      "Shape of array 2:  (2, 3)\n"
     ]
    }
   ],
   "source": [
    "arr2 = np.array([[1, 2, 3], [4, 5, 6]])\n",
    "print(arr2)\n",
    "print(\"Shape of array 2: \", arr2.shape) #(2, 3) ---> indicates a 2-dimensional array with 2 rows and 3 columns."
   ]
  },
  {
   "cell_type": "code",
   "execution_count": 4,
   "id": "492ba049-b264-401e-99dd-ff9a7dba6d75",
   "metadata": {},
   "outputs": [
    {
     "name": "stdout",
     "output_type": "stream",
     "text": [
      "[[[ 1  2]\n",
      "  [ 3  4]\n",
      "  [ 5  6]]\n",
      "\n",
      " [[ 7  8]\n",
      "  [ 9 10]\n",
      "  [11 12]]]\n",
      "Shape of array 3: (2, 3, 2)\n"
     ]
    }
   ],
   "source": [
    "arr3 = np.array([[[1, 2],[3, 4], [5, 6]], [[7, 8], [9, 10], [11, 12]]])\n",
    "print(arr3)\n",
    "print(f\"Shape of array 3: {arr3.shape}\") #(2, 3, 2) ---> indicates a three-dimensional array with 2 \"layers,\" each containing a 3x2 matrix."
   ]
  },
  {
   "cell_type": "code",
   "execution_count": 5,
   "id": "1946b613-2f9f-44ff-a831-5d145240f904",
   "metadata": {},
   "outputs": [
    {
     "name": "stdout",
     "output_type": "stream",
     "text": [
      "[[[ 1  2]\n",
      "  [ 3  4]\n",
      "  [ 5  6]\n",
      "  [ 0  1]]\n",
      "\n",
      " [[ 7  8]\n",
      "  [ 9 10]\n",
      "  [11 12]\n",
      "  [ 1  0]]]\n",
      "Shape of array 4: (2, 4, 2)\n"
     ]
    }
   ],
   "source": [
    "arr4 = np.array([[[1, 2],[3, 4], [5, 6], [0, 1]], [[7, 8], [9, 10], [11, 12], [1, 0]]])\n",
    "print(arr4)\n",
    "print(f\"Shape of array 4: {arr4.shape}\") #(2, 4, 2) ---> indicates a three-dimensional array with 2 \"layers,\" each containing a 4x2 matrix."
   ]
  },
  {
   "cell_type": "code",
   "execution_count": 6,
   "id": "0242ac8a-8529-44f5-bf77-59cbb2a0ca2f",
   "metadata": {},
   "outputs": [
    {
     "name": "stdout",
     "output_type": "stream",
     "text": [
      "[[[[ 1  2]\n",
      "   [ 3  4]]\n",
      "\n",
      "  [[ 4  6]\n",
      "   [ 7  8]]\n",
      "\n",
      "  [[ 9 10]\n",
      "   [11 12]]]]\n",
      "Shape of array 5: (1, 3, 2, 2)\n"
     ]
    },
    {
     "data": {
      "text/plain": [
       "'\\n    (1, 3, 2, 2) ---> indicates a four-dimensional array with 1 block, \\n    that block containing 3 layers, and each layer being a 2×2 matrix.\\n'"
      ]
     },
     "execution_count": 6,
     "metadata": {},
     "output_type": "execute_result"
    }
   ],
   "source": [
    "arr5 = np.array([[[[1, 2], [3, 4]], [[4, 6], [7, 8]], [[9, 10], [11, 12]]]])\n",
    "print(arr5)\n",
    "print(f\"Shape of array 5: {arr5.shape}\")\n",
    "\n",
    "'''\n",
    "    (1, 3, 2, 2) ---> indicates a four-dimensional array with 1 block, \n",
    "    that block containing 3 layers, and each layer being a 2×2 matrix.\n",
    "'''"
   ]
  },
  {
   "cell_type": "markdown",
   "id": "13662f98-c039-4b3d-b706-5ebe1d6238a0",
   "metadata": {},
   "source": [
    "# Dimension ---> .ndim"
   ]
  },
  {
   "cell_type": "markdown",
   "id": "43e6fb93-76b7-4cdb-9505-824772634202",
   "metadata": {},
   "source": [
    "<p>To check the dimensions, we use <strong>ndim</strong> attribute</p> "
   ]
  },
  {
   "cell_type": "code",
   "execution_count": 7,
   "id": "b1648706-c442-4b3b-8646-e2888dfe935d",
   "metadata": {},
   "outputs": [
    {
     "name": "stdout",
     "output_type": "stream",
     "text": [
      "The dimension of this array is: 0\n"
     ]
    }
   ],
   "source": [
    "array = np.array(1)\n",
    "print(f\"The dimension of this array is: {array.ndim}\")"
   ]
  },
  {
   "cell_type": "code",
   "execution_count": 8,
   "id": "de549125-f450-46d7-b5ee-a584e157598f",
   "metadata": {},
   "outputs": [
    {
     "name": "stdout",
     "output_type": "stream",
     "text": [
      "The dimension of array 1 is: 1\n"
     ]
    }
   ],
   "source": [
    "print(f\"The dimension of array 1 is: {arr1.ndim}\")"
   ]
  },
  {
   "cell_type": "code",
   "execution_count": 9,
   "id": "3c42715a-9b25-4f43-969a-42374521dfa5",
   "metadata": {},
   "outputs": [
    {
     "name": "stdout",
     "output_type": "stream",
     "text": [
      "The dimension of array 2 is: 2\n"
     ]
    }
   ],
   "source": [
    "print(f\"The dimension of array 2 is: {arr2.ndim}\")"
   ]
  },
  {
   "cell_type": "code",
   "execution_count": 10,
   "id": "c27e720d-073b-4c3d-9263-7e0fdc74ec7b",
   "metadata": {},
   "outputs": [
    {
     "name": "stdout",
     "output_type": "stream",
     "text": [
      "The dimension of array 3 is: 3\n"
     ]
    }
   ],
   "source": [
    "print(f\"The dimension of array 3 is: {arr3.ndim}\")"
   ]
  },
  {
   "cell_type": "code",
   "execution_count": 11,
   "id": "690c6222-b604-4a6d-8fa3-b5962a1e8186",
   "metadata": {},
   "outputs": [
    {
     "name": "stdout",
     "output_type": "stream",
     "text": [
      "The dimension of array 4 is: 3\n"
     ]
    }
   ],
   "source": [
    "print(f\"The dimension of array 4 is: {arr4.ndim}\")"
   ]
  },
  {
   "cell_type": "code",
   "execution_count": 12,
   "id": "8f308243-9ccc-40d4-8a31-1e391f3be137",
   "metadata": {},
   "outputs": [
    {
     "name": "stdout",
     "output_type": "stream",
     "text": [
      "The dimension of array 5 is: 4\n"
     ]
    }
   ],
   "source": [
    "print(f\"The dimension of array 5 is: {arr5.ndim}\")"
   ]
  },
  {
   "cell_type": "markdown",
   "id": "1fd2fd80-cebb-441a-b4d9-8c4ac3893a32",
   "metadata": {},
   "source": [
    "<h1>Size ---> .size</h1>"
   ]
  },
  {
   "cell_type": "markdown",
   "id": "43b518a8-de6a-4433-b313-c161f004218a",
   "metadata": {},
   "source": [
    "<p>Size will show the number of to number of elements in the array<p>"
   ]
  },
  {
   "cell_type": "code",
   "execution_count": 13,
   "id": "0b88b3eb-8307-47bd-a1e9-6f0b8a2e4202",
   "metadata": {},
   "outputs": [
    {
     "name": "stdout",
     "output_type": "stream",
     "text": [
      "Size of the array is: 1\n"
     ]
    }
   ],
   "source": [
    "print(f\"Size of the array is: {array.size}\")"
   ]
  },
  {
   "cell_type": "code",
   "execution_count": 14,
   "id": "40398973-d6a4-4fab-8063-e0417cc427e7",
   "metadata": {},
   "outputs": [
    {
     "name": "stdout",
     "output_type": "stream",
     "text": [
      "Size of array 1 is: 3\n"
     ]
    }
   ],
   "source": [
    "print(f\"Size of array 1 is: {arr1.size}\")"
   ]
  },
  {
   "cell_type": "code",
   "execution_count": 15,
   "id": "fceb5719-109c-443f-bcb7-d80672a77841",
   "metadata": {},
   "outputs": [
    {
     "name": "stdout",
     "output_type": "stream",
     "text": [
      "Size of array 2 is: 6\n"
     ]
    }
   ],
   "source": [
    "print(f\"Size of array 2 is: {arr2.size}\")"
   ]
  },
  {
   "cell_type": "code",
   "execution_count": 16,
   "id": "afa9b836-bfe0-45e6-8ff6-5ea03687e07e",
   "metadata": {},
   "outputs": [
    {
     "name": "stdout",
     "output_type": "stream",
     "text": [
      "Size of array 3 is: 12\n"
     ]
    }
   ],
   "source": [
    "print(f\"Size of array 3 is: {arr3.size}\")"
   ]
  },
  {
   "cell_type": "code",
   "execution_count": 17,
   "id": "b76d53b6-9801-4a0a-9453-7d934b68fe43",
   "metadata": {},
   "outputs": [
    {
     "name": "stdout",
     "output_type": "stream",
     "text": [
      "Size of array 4 is: 16\n",
      "Size of array 5 is: 12\n"
     ]
    }
   ],
   "source": [
    "print(f\"Size of array 4 is: {arr4.size}\")\n",
    "print(f\"Size of array 5 is: {arr5.size}\")"
   ]
  },
  {
   "cell_type": "markdown",
   "id": "3c461c61-6aff-4912-800b-c3abf884cccf",
   "metadata": {},
   "source": [
    "# .itemsize and .dtype"
   ]
  },
  {
   "cell_type": "markdown",
   "id": "20a4233d-8360-49fa-94f4-cf9d28a5676b",
   "metadata": {},
   "source": [
    "<ol> \n",
    "    <li>dtype tells you the data type of elements (e.g., int32, float64).</li>\n",
    "    <li>itemsize tells you the memory size in bytes of each element of that dtype.\n",
    "    <ul>\n",
    "        <li>NumPy defaults to 64-bit precision for both integers and floats\n",
    "        <li>Default int → int64 → 8 bytes </li>\n",
    "        <li>Default float → float64 → 8 bytes</li>\n",
    "        </li>\n",
    "    </ul>  </li>\n",
    "</ol>"
   ]
  },
  {
   "cell_type": "code",
   "execution_count": 25,
   "id": "04ab8f7e-32fa-46a7-93d4-9289199918ba",
   "metadata": {},
   "outputs": [
    {
     "name": "stdout",
     "output_type": "stream",
     "text": [
      "5\n",
      "\n",
      "Size of this array is: 8\n",
      "The data type of this array is: int64\n"
     ]
    }
   ],
   "source": [
    "np_array = np.array(5)\n",
    "print(np_array)\n",
    "print(f\"\\nSize of this array is: {np_array.itemsize}\")\n",
    "print(f\"The data type of this array is: {np_array.dtype}\")"
   ]
  },
  {
   "cell_type": "code",
   "execution_count": 26,
   "id": "d1baf3a5-0690-4f98-9c2a-dba0e675fd8d",
   "metadata": {},
   "outputs": [
    {
     "name": "stdout",
     "output_type": "stream",
     "text": [
      "[1 2 3]\n",
      "\n",
      "Size of this array is: 8\n",
      "The data type of this array is: int64\n"
     ]
    }
   ],
   "source": [
    "np_arr_1 = np.array([1, 2, 3])\n",
    "print(np_arr_1)\n",
    "print(f\"\\nSize of this array is: {np_arr_1.itemsize}\")\n",
    "print(f\"The data type of this array is: {np_arr_1.dtype}\")"
   ]
  },
  {
   "cell_type": "code",
   "execution_count": 29,
   "id": "caaf4eeb-6542-419e-8ac6-cbf5b93111a6",
   "metadata": {},
   "outputs": [
    {
     "name": "stdout",
     "output_type": "stream",
     "text": [
      "[[0 0]\n",
      " [0 0]\n",
      " [0 0]]\n",
      "\n",
      "Size of this array is: 4\n",
      "The data type of this array is: int32\n"
     ]
    }
   ],
   "source": [
    "np_arr_2a = np.zeros((3, 2), dtype=np.int32)\n",
    "print(np_arr_2a)\n",
    "print(f\"\\nSize of this array is: {np_arr_2a.itemsize}\")\n",
    "print(f\"The data type of this array is: {np_arr_2a.dtype}\")"
   ]
  },
  {
   "cell_type": "code",
   "execution_count": 28,
   "id": "2335d683-9de2-48cf-89bf-29bb9bb20bbc",
   "metadata": {},
   "outputs": [
    {
     "name": "stdout",
     "output_type": "stream",
     "text": [
      "[[0. 0.]\n",
      " [0. 0.]\n",
      " [0. 0.]]\n",
      "\n",
      "Size of this array is: 8\n",
      "The data type of this array is: float64\n"
     ]
    }
   ],
   "source": [
    "np_arr_2b = np.zeros((3, 2))\n",
    "print(np_arr_2b)\n",
    "print(f\"\\nSize of this array is: {np_arr_2b.itemsize}\")\n",
    "print(f\"The data type of this array is: {np_arr_2b.dtype}\")"
   ]
  },
  {
   "cell_type": "code",
   "execution_count": 30,
   "id": "252ee7b2-e432-4329-9e95-a768b31ade67",
   "metadata": {},
   "outputs": [
    {
     "name": "stdout",
     "output_type": "stream",
     "text": [
      "[ 3.          4.33333333  5.66666667  7.          8.33333333  9.66666667\n",
      " 11.         12.33333333 13.66666667 15.        ]\n",
      "\n",
      "Size of this array is: 8\n",
      "The data type of this array is: float64\n"
     ]
    }
   ],
   "source": [
    "np_arr_3 = np.linspace(3, 15, 10)\n",
    "print(np_arr_3)\n",
    "print(f\"\\nSize of this array is: {np_arr_3.itemsize}\")\n",
    "print(f\"The data type of this array is: {np_arr_3.dtype}\")"
   ]
  },
  {
   "cell_type": "code",
   "execution_count": 31,
   "id": "9f36e274-6a89-45e8-8d1b-2e8f840ea889",
   "metadata": {},
   "outputs": [
    {
     "name": "stdout",
     "output_type": "stream",
     "text": [
      "[2 6 8]\n",
      "\n",
      "Size of this array is: 4\n",
      "The data type of this array is: int32\n"
     ]
    }
   ],
   "source": [
    "np_arr_4a = np.array([2, 6, 8], dtype=np.int32)\n",
    "print(np_arr_4a)\n",
    "print(f\"\\nSize of this array is: {np_arr_4a.itemsize}\")\n",
    "print(f\"The data type of this array is: {np_arr_4a.dtype}\")"
   ]
  },
  {
   "cell_type": "code",
   "execution_count": 32,
   "id": "fa4664a7-e131-42c8-b71f-2d35a75d32ce",
   "metadata": {},
   "outputs": [
    {
     "name": "stdout",
     "output_type": "stream",
     "text": [
      "[2 6 8]\n",
      "\n",
      "Size of this array is: 8\n",
      "The data type of this array is: int64\n"
     ]
    }
   ],
   "source": [
    "np_arr_4b = np.array([2, 6, 8])\n",
    "print(np_arr_4b)\n",
    "print(f\"\\nSize of this array is: {np_arr_4b.itemsize}\")\n",
    "print(f\"The data type of this array is: {np_arr_4b.dtype}\")"
   ]
  },
  {
   "cell_type": "markdown",
   "id": "59f988af-6e10-42fb-9ac2-69445dd99e9e",
   "metadata": {},
   "source": [
    "# .astype()"
   ]
  },
  {
   "cell_type": "markdown",
   "id": "09682ffa-b84d-4306-96e9-7257e8bad372",
   "metadata": {},
   "source": [
    "<p>In NumPy, .astype() is used to convert (cast) an array to a different dtype.</p>\n",
    "<ul>\n",
    "    <li>.astype() does not change the original array; it creates a new one with the specified dtype.</li>\n",
    "    <li>If you don’t assign the result of .astype() to a new variable, the converted array will still be created but you’ll lose access to it,</li>\n",
    "</ul>"
   ]
  },
  {
   "cell_type": "code",
   "execution_count": 33,
   "id": "5ca4f712-d547-4c3d-8867-732ce9800971",
   "metadata": {},
   "outputs": [
    {
     "name": "stdout",
     "output_type": "stream",
     "text": [
      "int32 4\n",
      "float64 8\n"
     ]
    }
   ],
   "source": [
    "arr6 = np.array([1, 2, 3], dtype=np.int32)\n",
    "print(arr6.dtype, arr6.itemsize)   # int32, 4\n",
    "\n",
    "# Convert to float64\n",
    "arr_float = arr6.astype(np.float64)\n",
    "print(arr_float.dtype, arr_float.itemsize)  # float64, 8"
   ]
  },
  {
   "cell_type": "code",
   "execution_count": 35,
   "id": "299465f2-02d4-4e38-ad08-fbf2d4a20796",
   "metadata": {},
   "outputs": [
    {
     "name": "stdout",
     "output_type": "stream",
     "text": [
      "int32\n"
     ]
    }
   ],
   "source": [
    "arr7 = np.array([1, 2, 3], dtype=np.int32)\n",
    "arr7.astype(np.float64)   # conversion happens, but result not stored\n",
    "print(arr7.dtype)   # still int32"
   ]
  },
  {
   "cell_type": "code",
   "execution_count": 45,
   "id": "2b2ef1ad-ad82-48e5-9d14-3ce1b976f021",
   "metadata": {},
   "outputs": [
    {
     "name": "stdout",
     "output_type": "stream",
     "text": [
      "[[1 2 3]\n",
      " [4 5 6]]\n",
      "data type of this array is: int64 \n",
      "\n",
      "[[1. 2. 3.]\n",
      " [4. 5. 6.]]\n",
      "after conversion: float64\n"
     ]
    }
   ],
   "source": [
    "arr8 = np.array([[1, 2, 3],[4, 5, 6]])\n",
    "print(f\"{arr8}\\ndata type of this array is: {arr8.dtype} \\n\")\n",
    "\n",
    "arr9 = arr8.astype('float')\n",
    "print(f\"{arr9}\\nafter conversion: {arr9.dtype}\")"
   ]
  }
 ],
 "metadata": {
  "kernelspec": {
   "display_name": "Python [conda env:base] *",
   "language": "python",
   "name": "conda-base-py"
  },
  "language_info": {
   "codemirror_mode": {
    "name": "ipython",
    "version": 3
   },
   "file_extension": ".py",
   "mimetype": "text/x-python",
   "name": "python",
   "nbconvert_exporter": "python",
   "pygments_lexer": "ipython3",
   "version": "3.13.5"
  }
 },
 "nbformat": 4,
 "nbformat_minor": 5
}
