{
 "cells": [
  {
   "cell_type": "markdown",
   "id": "28d16f31-e094-42d8-abb3-a8383287d4a6",
   "metadata": {},
   "source": [
    "# Reshaping NumPy Array"
   ]
  },
  {
   "cell_type": "code",
   "execution_count": 1,
   "id": "3ed7d540-3848-459e-a10f-d6e3c8bcd4dc",
   "metadata": {},
   "outputs": [],
   "source": [
    "import numpy as np"
   ]
  },
  {
   "cell_type": "code",
   "execution_count": 2,
   "id": "b63f505d-ade0-4deb-967d-3cc0598487df",
   "metadata": {},
   "outputs": [
    {
     "data": {
      "text/plain": [
       "array([[1, 2, 3],\n",
       "       [4, 5, 6]])"
      ]
     },
     "execution_count": 2,
     "metadata": {},
     "output_type": "execute_result"
    }
   ],
   "source": [
    "array_1 = np.array([[1, 2, 3],[4, 5, 6]])\n",
    "array_1"
   ]
  },
  {
   "cell_type": "markdown",
   "id": "d880e9e0-61ef-4090-b18f-e9e1e6aba669",
   "metadata": {},
   "source": [
    "## ravel()"
   ]
  },
  {
   "cell_type": "markdown",
   "id": "01413bbe-4124-44ec-9574-e50042c207c4",
   "metadata": {},
   "source": [
    "<p>This function flatten the multi-dimensional array without lossing original information</p>"
   ]
  },
  {
   "cell_type": "code",
   "execution_count": 6,
   "id": "db4916c0-6e95-48c2-9be1-12ee5db4187d",
   "metadata": {},
   "outputs": [
    {
     "name": "stdout",
     "output_type": "stream",
     "text": [
      "Array 1 from 2D to 1D: [1 2 3 4 5 6]\n"
     ]
    }
   ],
   "source": [
    "print(f\"Array 1 from 2D to 1D: {array_1.ravel()}\")"
   ]
  },
  {
   "cell_type": "markdown",
   "id": "788c72a8-5aee-4835-8770-955361e39a8b",
   "metadata": {},
   "source": [
    "## flatten()"
   ]
  },
  {
   "cell_type": "code",
   "execution_count": 3,
   "id": "761c8924-7162-48ce-9f01-0add73e96178",
   "metadata": {},
   "outputs": [
    {
     "name": "stdout",
     "output_type": "stream",
     "text": [
      "Array 1 from 2D to 1D: [1 2 3 4 5 6]\n"
     ]
    }
   ],
   "source": [
    "print(f\"Array 1 from 2D to 1D: {array_1.flatten()}\")"
   ]
  },
  {
   "cell_type": "markdown",
   "id": "3abc6633-057d-465a-a8da-278a15ea5215",
   "metadata": {},
   "source": [
    "### reshap()"
   ]
  },
  {
   "cell_type": "markdown",
   "id": "987d8c9f-d146-457f-9d8b-3765eed02aa9",
   "metadata": {},
   "source": [
    "<p>.reshape() is a function that allows you to change the shape (dimensions) of an array without altering its underlying data.</p>"
   ]
  },
  {
   "cell_type": "code",
   "execution_count": 8,
   "id": "72473233-d344-4536-853d-be66a0ae8529",
   "metadata": {},
   "outputs": [
    {
     "name": "stdout",
     "output_type": "stream",
     "text": [
      "Array 1 before reshape: [[1 2 3]\n",
      " [4 5 6]] \n",
      "\n",
      "Array 1 after reshape: [[1 2]\n",
      " [3 4]\n",
      " [5 6]]\n"
     ]
    }
   ],
   "source": [
    "print(f\"Array 1 before reshape: {array_1} \\n\\nArray 1 after reshape: {array_1.reshape(3, 2)}\")"
   ]
  },
  {
   "cell_type": "markdown",
   "id": "171fa4a5-81aa-4f76-b139-8e05601af5ba",
   "metadata": {},
   "source": [
    "### .transpose()"
   ]
  },
  {
   "cell_type": "markdown",
   "id": "620b79bb-5845-48c1-9878-f11751294f40",
   "metadata": {},
   "source": [
    "<p>.transpose() function reorders the axis of an array</p>"
   ]
  },
  {
   "cell_type": "code",
   "execution_count": 10,
   "id": "eaffb5e6-76c4-400d-ba1e-24201f4f87bf",
   "metadata": {},
   "outputs": [
    {
     "name": "stdout",
     "output_type": "stream",
     "text": [
      "Transpose of Array 2 is: \n",
      "[[ 7 10 13]\n",
      " [ 8 11 14]\n",
      " [ 9 12 15]]\n"
     ]
    }
   ],
   "source": [
    "array_2 = np.array([[7, 8, 9], [10, 11, 12], [13, 14, 15]])\n",
    "print(f\"Transpose of Array 2 is: \\n{array_2.transpose()}\")"
   ]
  },
  {
   "cell_type": "markdown",
   "id": "1aef3c73-3261-4a27-92bb-f4bc7fefc098",
   "metadata": {},
   "source": [
    "### .stack()"
   ]
  },
  {
   "cell_type": "markdown",
   "id": "0ef91ab7-7b63-4af0-a25c-4abc0739b137",
   "metadata": {},
   "source": [
    "<p>This function is used to join multiple arrays along a new axis.</p>"
   ]
  },
  {
   "cell_type": "code",
   "execution_count": 13,
   "id": "d51ada09-6dd8-498c-a59c-552f5e34db6f",
   "metadata": {},
   "outputs": [
    {
     "name": "stdout",
     "output_type": "stream",
     "text": [
      "[[[ 1  2  3  4  5]\n",
      "  [ 6  7  8  9 10]]\n",
      "\n",
      " [[11 12 13 14 15]\n",
      "  [16 17 18 19 20]]]\n"
     ]
    }
   ],
   "source": [
    "array_3 = np.arange(1, 11).reshape(2, 5)\n",
    "array_4 = np.arange(11, 21).reshape(2, 5)\n",
    "print(np.stack((array_3, array_4)))"
   ]
  },
  {
   "cell_type": "code",
   "execution_count": 14,
   "id": "4e880692-02ae-46ac-86cd-9fb4189ebc5f",
   "metadata": {},
   "outputs": [
    {
     "name": "stdout",
     "output_type": "stream",
     "text": [
      "[[ 1  2  3  4  5 11 12 13 14 15]\n",
      " [ 6  7  8  9 10 16 17 18 19 20]]\n"
     ]
    }
   ],
   "source": [
    "print(np.hstack((array_3, array_4)))"
   ]
  },
  {
   "cell_type": "code",
   "execution_count": 15,
   "id": "46301dfd-5c2c-4e52-b7cd-eac1885f188b",
   "metadata": {},
   "outputs": [
    {
     "name": "stdout",
     "output_type": "stream",
     "text": [
      "[[ 1  2  3  4  5]\n",
      " [ 6  7  8  9 10]\n",
      " [11 12 13 14 15]\n",
      " [16 17 18 19 20]]\n"
     ]
    }
   ],
   "source": [
    "print(np.vstack((array_3, array_4)))"
   ]
  },
  {
   "cell_type": "markdown",
   "id": "1646db88-791f-44e9-91ff-1709e5fc77ca",
   "metadata": {},
   "source": [
    "### .split()"
   ]
  },
  {
   "cell_type": "markdown",
   "id": "6cf271a1-fe79-4408-a8f5-76d915641a12",
   "metadata": {},
   "source": [
    "<p>In NumPy, splitting an array refers to the process of dividing a single array into multiple smaller sub-arrays.</p>"
   ]
  },
  {
   "cell_type": "code",
   "execution_count": 17,
   "id": "49b5a5c9-1215-49fa-aeb3-145ac111d1e8",
   "metadata": {},
   "outputs": [
    {
     "name": "stdout",
     "output_type": "stream",
     "text": [
      "[array([[1, 2, 3, 4, 5]]), array([[ 6,  7,  8,  9, 10]])]\n"
     ]
    }
   ],
   "source": [
    "print(np.split(array_3, 2))"
   ]
  },
  {
   "cell_type": "code",
   "execution_count": 28,
   "id": "672c5e1a-3f51-4715-81ec-f11bd91ca59d",
   "metadata": {},
   "outputs": [
    {
     "name": "stdout",
     "output_type": "stream",
     "text": [
      "[array([[1, 2, 3, 4, 5]]), array([[ 6,  7,  8,  9, 10]])]\n"
     ]
    }
   ],
   "source": [
    "print(np.vsplit(array_3, 2))"
   ]
  },
  {
   "cell_type": "code",
   "execution_count": 31,
   "id": "f118bb61-ed5c-4f8e-9e52-f9e3d6cb1fa0",
   "metadata": {},
   "outputs": [
    {
     "name": "stdout",
     "output_type": "stream",
     "text": [
      "[array([[1],\n",
      "       [6]]), array([[2],\n",
      "       [7]]), array([[3],\n",
      "       [8]]), array([[4],\n",
      "       [9]]), array([[ 5],\n",
      "       [10]])]\n"
     ]
    }
   ],
   "source": [
    "print(np.hsplit(array_3, 5))"
   ]
  }
 ],
 "metadata": {
  "kernelspec": {
   "display_name": "Python [conda env:base] *",
   "language": "python",
   "name": "conda-base-py"
  },
  "language_info": {
   "codemirror_mode": {
    "name": "ipython",
    "version": 3
   },
   "file_extension": ".py",
   "mimetype": "text/x-python",
   "name": "python",
   "nbconvert_exporter": "python",
   "pygments_lexer": "ipython3",
   "version": "3.13.5"
  }
 },
 "nbformat": 4,
 "nbformat_minor": 5
}
