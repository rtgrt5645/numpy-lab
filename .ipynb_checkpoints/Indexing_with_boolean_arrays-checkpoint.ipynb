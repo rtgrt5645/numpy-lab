{
 "cells": [
  {
   "cell_type": "markdown",
   "id": "e7a328b3-d048-4583-ac83-20ac8eaa9863",
   "metadata": {},
   "source": [
    "# Indexing with Boolean Arrays"
   ]
  },
  {
   "cell_type": "code",
   "execution_count": 1,
   "id": "18cf4aba-f374-424c-955b-c1a4dd4ec4e7",
   "metadata": {},
   "outputs": [],
   "source": [
    "import numpy as np"
   ]
  },
  {
   "cell_type": "code",
   "execution_count": 2,
   "id": "56ecf941-5b48-4e4a-8549-f45acb118ac0",
   "metadata": {},
   "outputs": [
    {
     "name": "stdout",
     "output_type": "stream",
     "text": [
      "[[92 38 98 25]\n",
      " [73 46 88 12]\n",
      " [44  3 42 20]\n",
      " [60 85 39 65]\n",
      " [95 37 58 93]]\n"
     ]
    }
   ],
   "source": [
    "array = np.random.randint(low=1, high=100, size=20).reshape(5, 4)\n",
    "print(array)"
   ]
  },
  {
   "cell_type": "code",
   "execution_count": 3,
   "id": "3e479050-e626-4960-9fea-888139fc855d",
   "metadata": {},
   "outputs": [
    {
     "name": "stdout",
     "output_type": "stream",
     "text": [
      "[92 98 73 88 60 85 65 95 58 93]\n"
     ]
    }
   ],
   "source": [
    "print(array[array>50])"
   ]
  },
  {
   "cell_type": "code",
   "execution_count": 4,
   "id": "296bf605-b381-47df-8701-d0a5549d4c10",
   "metadata": {},
   "outputs": [
    {
     "name": "stdout",
     "output_type": "stream",
     "text": [
      "[73 85 65 95 93]\n"
     ]
    }
   ],
   "source": [
    "print(array[(array>50) & (array%2!=0)])"
   ]
  },
  {
   "cell_type": "code",
   "execution_count": 5,
   "id": "26d08cc5-bc8e-4205-bb6e-f2f8baf4a07f",
   "metadata": {},
   "outputs": [
    {
     "name": "stdout",
     "output_type": "stream",
     "text": [
      "[[92 38 98 25]\n",
      " [ 0 46 88 12]\n",
      " [44  3 42 20]\n",
      " [60  0 39  0]\n",
      " [ 0 37 58  0]]\n"
     ]
    }
   ],
   "source": [
    "array[(array>50) & (array%2!=0)]=0\n",
    "print(array)"
   ]
  }
 ],
 "metadata": {
  "kernelspec": {
   "display_name": "Python [conda env:base] *",
   "language": "python",
   "name": "conda-base-py"
  },
  "language_info": {
   "codemirror_mode": {
    "name": "ipython",
    "version": 3
   },
   "file_extension": ".py",
   "mimetype": "text/x-python",
   "name": "python",
   "nbconvert_exporter": "python",
   "pygments_lexer": "ipython3",
   "version": "3.13.5"
  }
 },
 "nbformat": 4,
 "nbformat_minor": 5
}
